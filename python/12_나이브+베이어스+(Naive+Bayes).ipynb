{
 "cells": [
  {
   "cell_type": "markdown",
   "metadata": {},
   "source": [
    "# 나이브 베이어스\n",
    "해당 메일이 스팸메일인지 아닌지 예측하는 문제이다.\n",
    "\n",
    "data에는 스팸의 여부와 메일 내용이 저장되어있다."
   ]
  },
  {
   "cell_type": "code",
   "execution_count": 2,
   "metadata": {
    "collapsed": true
   },
   "outputs": [],
   "source": [
    "import pandas as pd\n",
    "from matplotlib import pyplot as plt\n",
    "import numpy as np"
   ]
  },
  {
   "cell_type": "code",
   "execution_count": 3,
   "metadata": {
    "collapsed": true
   },
   "outputs": [],
   "source": [
    "import codecs\n",
    "\n",
    "# utf-8 디코딩 문제로 인해 해당 코드로 파일을 읽어왔다.\n",
    "with codecs.open('data/sms_spam.csv', \"r\", encoding='utf-8', errors='ignore') as fdata:\n",
    "    sms_raw = pd.read_csv(fdata)"
   ]
  },
  {
   "cell_type": "code",
   "execution_count": 4,
   "metadata": {},
   "outputs": [
    {
     "name": "stdout",
     "output_type": "stream",
     "text": [
      "<class 'pandas.core.frame.DataFrame'>\n",
      "RangeIndex: 5559 entries, 0 to 5558\n",
      "Data columns (total 2 columns):\n",
      "type    5559 non-null object\n",
      "text    5559 non-null object\n",
      "dtypes: object(2)\n",
      "memory usage: 86.9+ KB\n"
     ]
    }
   ],
   "source": [
    "sms_raw.info()"
   ]
  },
  {
   "cell_type": "code",
   "execution_count": 5,
   "metadata": {},
   "outputs": [
    {
     "data": {
      "text/plain": [
       "ham     4812\n",
       "spam     747\n",
       "Name: type, dtype: int64"
      ]
     },
     "execution_count": 5,
     "metadata": {},
     "output_type": "execute_result"
    }
   ],
   "source": [
    "sms_raw['type'].value_counts()"
   ]
  },
  {
   "cell_type": "code",
   "execution_count": 6,
   "metadata": {},
   "outputs": [
    {
     "data": {
      "text/html": [
       "<div>\n",
       "<style>\n",
       "    .dataframe thead tr:only-child th {\n",
       "        text-align: right;\n",
       "    }\n",
       "\n",
       "    .dataframe thead th {\n",
       "        text-align: left;\n",
       "    }\n",
       "\n",
       "    .dataframe tbody tr th {\n",
       "        vertical-align: top;\n",
       "    }\n",
       "</style>\n",
       "<table border=\"1\" class=\"dataframe\">\n",
       "  <thead>\n",
       "    <tr style=\"text-align: right;\">\n",
       "      <th></th>\n",
       "      <th>type</th>\n",
       "      <th>text</th>\n",
       "    </tr>\n",
       "  </thead>\n",
       "  <tbody>\n",
       "    <tr>\n",
       "      <th>0</th>\n",
       "      <td>ham</td>\n",
       "      <td>Hope you are having a good week. Just checking in</td>\n",
       "    </tr>\n",
       "    <tr>\n",
       "      <th>1</th>\n",
       "      <td>ham</td>\n",
       "      <td>K..give back my thanks.</td>\n",
       "    </tr>\n",
       "    <tr>\n",
       "      <th>2</th>\n",
       "      <td>ham</td>\n",
       "      <td>Am also doing in cbe only. But have to pay.</td>\n",
       "    </tr>\n",
       "    <tr>\n",
       "      <th>3</th>\n",
       "      <td>spam</td>\n",
       "      <td>complimentary 4 STAR Ibiza Holiday or £10,000 ...</td>\n",
       "    </tr>\n",
       "    <tr>\n",
       "      <th>4</th>\n",
       "      <td>spam</td>\n",
       "      <td>okmail: Dear Dave this is your final notice to...</td>\n",
       "    </tr>\n",
       "    <tr>\n",
       "      <th>5</th>\n",
       "      <td>ham</td>\n",
       "      <td>Aiya we discuss later lar... Pick u up at 4 is...</td>\n",
       "    </tr>\n",
       "    <tr>\n",
       "      <th>6</th>\n",
       "      <td>ham</td>\n",
       "      <td>Are you this much buzy</td>\n",
       "    </tr>\n",
       "    <tr>\n",
       "      <th>7</th>\n",
       "      <td>ham</td>\n",
       "      <td>Please ask mummy to call father</td>\n",
       "    </tr>\n",
       "    <tr>\n",
       "      <th>8</th>\n",
       "      <td>spam</td>\n",
       "      <td>Marvel Mobile Play the official Ultimate Spide...</td>\n",
       "    </tr>\n",
       "    <tr>\n",
       "      <th>9</th>\n",
       "      <td>ham</td>\n",
       "      <td>fyi I'm at usf now, swing by the room whenever</td>\n",
       "    </tr>\n",
       "  </tbody>\n",
       "</table>\n",
       "</div>"
      ],
      "text/plain": [
       "   type                                               text\n",
       "0   ham  Hope you are having a good week. Just checking in\n",
       "1   ham                            K..give back my thanks.\n",
       "2   ham        Am also doing in cbe only. But have to pay.\n",
       "3  spam  complimentary 4 STAR Ibiza Holiday or £10,000 ...\n",
       "4  spam  okmail: Dear Dave this is your final notice to...\n",
       "5   ham  Aiya we discuss later lar... Pick u up at 4 is...\n",
       "6   ham                             Are you this much buzy\n",
       "7   ham                    Please ask mummy to call father\n",
       "8  spam  Marvel Mobile Play the official Ultimate Spide...\n",
       "9   ham     fyi I'm at usf now, swing by the room whenever"
      ]
     },
     "execution_count": 6,
     "metadata": {},
     "output_type": "execute_result"
    }
   ],
   "source": [
    "sms_raw.head(10) # 임의 출력"
   ]
  },
  {
   "cell_type": "code",
   "execution_count": 7,
   "metadata": {
    "collapsed": true
   },
   "outputs": [],
   "source": [
    "sms_corpus = sms_raw['text'] #dataframe의 'text'의 정보를 따로 저장"
   ]
  },
  {
   "cell_type": "code",
   "execution_count": 8,
   "metadata": {},
   "outputs": [
    {
     "data": {
      "text/plain": [
       "(5559, 1800)"
      ]
     },
     "execution_count": 8,
     "metadata": {},
     "output_type": "execute_result"
    }
   ],
   "source": [
    "# text의 전처리\n",
    "from sklearn.feature_extraction.text import CountVectorizer\n",
    "\n",
    "vectorizer = CountVectorizer(min_df=5) # 5개 이하로 나온 단어 무시\n",
    "X = vectorizer.fit_transform(sms_corpus) # 문서-단어 행렬 작성 후 X에 저장\n",
    "# 이는 해당 단어의 총 출연 횟수를 text에 등장한 단어 순서에 맞게 저장한 CounterVector 이다.\n",
    "X.shape"
   ]
  },
  {
   "cell_type": "code",
   "execution_count": 9,
   "metadata": {},
   "outputs": [
    {
     "name": "stdout",
     "output_type": "stream",
     "text": [
      "  (0, 773)\t1\n",
      "  (0, 326)\t1\n",
      "  (0, 819)\t1\n",
      "  (0, 1693)\t1\n",
      "  (0, 656)\t1\n",
      "  (0, 698)\t1\n",
      "  (0, 162)\t1\n",
      "  (0, 1791)\t1\n",
      "  (0, 731)\t1\n",
      "  (1, 1514)\t1\n",
      "  (1, 1032)\t1\n",
      "  (1, 198)\t1\n",
      "  (1, 643)\t1\n",
      "  (2, 1139)\t1\n",
      "  (2, 1557)\t1\n",
      "  (2, 695)\t1\n",
      "  (2, 272)\t1\n",
      "  (2, 1101)\t1\n",
      "  (2, 309)\t1\n",
      "  (2, 468)\t1\n",
      "  (2, 135)\t1\n",
      "  (2, 137)\t1\n",
      "  (2, 773)\t1\n"
     ]
    },
    {
     "data": {
      "text/plain": [
       "scipy.sparse.csr.csr_matrix"
      ]
     },
     "execution_count": 9,
     "metadata": {},
     "output_type": "execute_result"
    }
   ],
   "source": [
    "print(X[:3]) # countervector 임의 출력\n",
    "type(X)"
   ]
  },
  {
   "cell_type": "code",
   "execution_count": 10,
   "metadata": {
    "collapsed": true
   },
   "outputs": [],
   "source": [
    "X = X.toarray() # 학습을 위해서는 X가 array나 ndarray의 형태로 존재해야 함\n",
    "y = sms_raw['type'] # 스팸 여부를 저장"
   ]
  },
  {
   "cell_type": "code",
   "execution_count": 11,
   "metadata": {
    "collapsed": true
   },
   "outputs": [],
   "source": [
    "from sklearn.model_selection import train_test_split\n",
    "# 훈련데이터 75%, 테스트 데이터 25%를 지정\n",
    "X_train, X_test, y_train, y_test = train_test_split(X, y, test_size=0.25, random_state=33)"
   ]
  },
  {
   "cell_type": "code",
   "execution_count": 12,
   "metadata": {},
   "outputs": [
    {
     "name": "stdout",
     "output_type": "stream",
     "text": [
      "             precision    recall  f1-score   support\n",
      "\n",
      "        ham       0.98      0.85      0.91      1187\n",
      "       spam       0.51      0.90      0.65       203\n",
      "\n",
      "avg / total       0.91      0.86      0.87      1390\n",
      "\n"
     ]
    }
   ],
   "source": [
    "from sklearn.naive_bayes import GaussianNB as nb\n",
    "cl = nb() # 가우시안 나이브 베이어스 모델 생성\n",
    "cl.fit(X_train, y_train) # 학습\n",
    "\n",
    "from sklearn import metrics\n",
    "y_pred = cl.predict(X_test) # 학습된 모델을 이용하여 예측\n",
    "print(metrics.classification_report(y_test, y_pred)) # 예측 결과 출력"
   ]
  },
  {
   "cell_type": "code",
   "execution_count": 13,
   "metadata": {},
   "outputs": [
    {
     "data": {
      "text/plain": [
       "MultinomialNB(alpha=1.0, class_prior=None, fit_prior=True)"
      ]
     },
     "execution_count": 13,
     "metadata": {},
     "output_type": "execute_result"
    }
   ],
   "source": [
    "# 라플라스 추정\n",
    "# 라플라스 추정을 위해 MultinomialNB를 사용\n",
    "from sklearn.naive_bayes import MultinomialNB as nb\n",
    "cl = nb() # 멀티노미얼 나이브 베이어스 모델 생성\n",
    "cl.fit(X_train, y_train) # 학습"
   ]
  },
  {
   "cell_type": "code",
   "execution_count": 14,
   "metadata": {},
   "outputs": [
    {
     "name": "stdout",
     "output_type": "stream",
     "text": [
      "             precision    recall  f1-score   support\n",
      "\n",
      "        ham       0.99      0.99      0.99      1187\n",
      "       spam       0.96      0.95      0.95       203\n",
      "\n",
      "avg / total       0.99      0.99      0.99      1390\n",
      "\n"
     ]
    }
   ],
   "source": [
    "from sklearn import metrics\n",
    "y_pred = cl.predict(X_test) # 학습된 모델을 이용하여 예측\n",
    "print(metrics.classification_report(y_test, y_pred)) # 예측 결과 출력"
   ]
  },
  {
   "cell_type": "markdown",
   "metadata": {
    "collapsed": true
   },
   "source": [
    "### 실습 예제\n",
    "상단의 예제에서 주어진 email data를 train과 test데이터의 비율은 8:2로 설정한 뒤, 가우시안 나이브 베이어스 학습 모델을 이용하여 예측 결과를 출력하시오."
   ]
  },
  {
   "cell_type": "code",
   "execution_count": 15,
   "metadata": {},
   "outputs": [
    {
     "name": "stdout",
     "output_type": "stream",
     "text": [
      "             precision    recall  f1-score   support\n",
      "\n",
      "        ham       0.98      0.84      0.91       955\n",
      "       spam       0.48      0.92      0.63       157\n",
      "\n",
      "avg / total       0.91      0.85      0.87      1112\n",
      "\n"
     ]
    }
   ],
   "source": [
    "from sklearn.model_selection import train_test_split\n",
    "# 훈련데이터 75%, 테스트 데이터 25%를 지정\n",
    "X_train, X_test, y_train, y_test = train_test_split(X, y, test_size=0.2, random_state=33)\n",
    "\n",
    "from sklearn.naive_bayes import GaussianNB as nb\n",
    "cl = nb() # 가우시안 나이브 베이어스 모델 생성\n",
    "cl.fit(X_train, y_train) # 학습\n",
    "\n",
    "from sklearn import metrics\n",
    "y_pred = cl.predict(X_test) # 학습된 모델을 이용하여 예측\n",
    "print(metrics.classification_report(y_test, y_pred)) # 예측 결과 출력"
   ]
  },
  {
   "cell_type": "code",
   "execution_count": null,
   "metadata": {
    "collapsed": true
   },
   "outputs": [],
   "source": []
  }
 ],
 "metadata": {
  "kernelspec": {
   "display_name": "Python 3",
   "language": "python",
   "name": "python3"
  },
  "language_info": {
   "codemirror_mode": {
    "name": "ipython",
    "version": 3
   },
   "file_extension": ".py",
   "mimetype": "text/x-python",
   "name": "python",
   "nbconvert_exporter": "python",
   "pygments_lexer": "ipython3",
   "version": "3.6.1"
  }
 },
 "nbformat": 4,
 "nbformat_minor": 2
}
