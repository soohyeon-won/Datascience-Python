{
 "cells": [
  {
   "cell_type": "markdown",
   "metadata": {
    "deletable": true,
    "editable": true
   },
   "source": [
    "## 왜 파이선인가"
   ]
  },
  {
   "cell_type": "markdown",
   "metadata": {
    "deletable": true,
    "editable": true
   },
   "source": [
    "## 파이선 소개\n",
    "파이선은 1980년대 말 Guido van Rossum이 만든 오픈 소스 범용 프로그래밍 언어이다. 자바나 C 언어에 비해 배우기 쉽고, 기능도 충분하여 여러 분야에서 사용되고 있으며 최근 대학에서는 기본 언어로 파이선을 주로 채택하고 있다.\n",
    "\n",
    "데이터 사이언스 분야나 고속 데이터 처리 분야에서 특히 파이선이 장점을 갖고 있는데, 예전에는 이러한 기능을 주로 C나 자바로 구현했었다. 파이선의 가장 큰 장점은 C나 자바에 비해 쉽다는 것이다. 그리고 이미 개발되어 있는 라이브러리를 불러서 사용함으로써 파이선의 느린 처리속도를 충분히 개선할 수 있다. 파이선 자체는 속도가 느리지만 이미 라이브러리화 되어 있는 모듈을 호출하면 속도 문제를 해결할 수 있다.\n",
    "\n",
    "여기서 파이선이 속도가 느리다고 하는 이유는 파이선의 동작이 기본적으로 대화형 속성(interpreted nature) 모드로 동작하기 때문인데, 대화형 모드란 소스 코드를 컴파일하는 과정이 없이 코드의 동작을 바로 라인 단위로 실행하는 것을 말한다. 이러한 대화형 속성은 프로그램 개발은 쉽고, 직관적이며 빠르게 할 수 있다는 장점이 있다.\n",
    "\n",
    "즉, 파이선은 문법도 쉽고, 편리한 개발 방법을 제공며, 동시에 다른 사람들이 만든 라이브러리가 풍부하여 실행시에는 빠른 처리속도를 얻는 장점을 가지고 있다. \n",
    "\n",
    "파이선의 대표적인 라이브러리는 NumPy인데 이 라이브러리는 어레이를 편리하게 다룰 수 있는 기능을 제공한다. 어레이는 테이블 형태의 데이터 구조로 가장 일반적을 사용되는 데이터 포맷이다. ScitPy 라이브러리를 과학적인 계산을 지원하는 라이브러리이고, matplotlib는 그래프를 편리하게 그리는데 사용하는 라이브러리이다. panda는 데이터분석과 통계처리 라이브러리이다. scikit-learn은 기계학습 라이브러리이다.\n",
    "\n",
    "파이선 개발을 위한 유용한 인터페이스로 Jupyter/IPython이 있는데, 이는 프로그램 코딩, 라인별 동작확인, 문서관리 등을 편리하게 제공하며 전세계 파이선 개발자가 애용하는 개발 환경도구이다. 이 책에서도 Jupyter를 사용하여 설명하겠다.\n",
    "\n",
    "파이선 자체와 위에 소개한 라이브러리들을 모두 통칭하여 SciPy 스택 또는 PyData 플랫폼이라고도 부른다.\n",
    "\n"
   ]
  },
  {
   "cell_type": "markdown",
   "metadata": {
    "deletable": true,
    "editable": true
   },
   "source": [
    "## 데이터 사이언스에 사용되는 다른 도구\n",
    "과학이나 공학 분야에서 수치적 분석에 널리 사용되는 MATLAB이 있고, 통계분석으로 유명한 SPSS가 있다. 이들은 모두 유료 소프트웨어이다. 통계처리 언어로 파이선과 함께 널리 사용되는 R이 있는데 이는 무료 소프트웨어이다."
   ]
  },
  {
   "cell_type": "markdown",
   "metadata": {
    "deletable": true,
    "editable": true
   },
   "source": [
    "## IPython\n",
    " IPython(“interactice\" Python)은 Fernando Perez가 2001년에 개발한 도구로, 개발자가 프로그램을 문장 단위로 실행해볼 수 있는 도구이다. 2011년에 IPyton에 노트북(Notebook)이라는 기능이 추가 되었는데, 노트북은 프로그램 소스 코드 뿐 아니라, 프로그램에 대한 설명 도큐먼트, 결과 그래프, 수식 등을 모두 하나의 파일에 저장하고 관리하는 편리한 기능을 제공한다. 예전에도 프로그램에 주석문을 컴파달 수 있지만 텍스트형태로 제한된 도큐먼트만 가능했었다. 노트북을 사용하면 다양한 서식과, 그리프, 그리고 스크롤바 같은 사용자 인터페이스도 한번에 다룰 수 있다. \n",
    "쥬피터\n",
    "노트북 사용자가 점점 많아지고 지원하는 언어도 파이선 뿐 아니라 R, Ruby, Julia 등으로 늘어나면서 노트북을 Jupyter라는 이름으로 사용하게 되었다 (2014년). IPython은 Jupyter 노트북의 핵심 기능, 즉, 컴파일, 변수관리 등을 담당하며 이를 kernel이라고 부른다. 쥬피터를 온라인을 실습한 수 있는 사이트가 있다. 쥬피터 노트북의 장점은 프로그램 개발과 실행 모든 동작을 웹기반으로 수행할 수 있다는 것이다. \n",
    "\n",
    "웹기반으로 연습할 수도 있는데 아래 사이트를 참조:\n",
    "\n",
    "try.jupyter.org\n",
    "\n",
    "wakari.io"
   ]
  },
  {
   "cell_type": "markdown",
   "metadata": {
    "deletable": true,
    "editable": true
   },
   "source": [
    "## 쥬피터 실행\n",
    "터미널 창을 열고 작업할 디렉토리로 이동해서 아래 명령을 입력하면 쥬피터를 실행할 수 있다. 아래에서 현재 디렉토리가 홈디렉토리(~) 아래에 있는 code/data_sci 인 것을 나타내며 ‘$“ 기호는 프롬프트이다. 즉, 입력할 명령문은 jupyter notebook인 것을 나타낸다. \n",
    "\n",
    "~/code/data_sci $ jupyter notebook\n",
    "\n",
    "쥬피터는 웹기반으로 동작하며 실습에서 사용하는 컴퓨터 자체가 로컬 서버역할을 하고 웹 브라우저처럼 유피터 대시보드가 나타난다. 아래에 쥬피터 대시보드를 나타냈다.\n",
    "\n",
    "\n",
    "\n",
    "현재 디렉토리에 아무 파일도 없다는 것을 나타낸다. 대시보드에 3개의 탭이 있는데 각각의 기능은 다음과 같다. Files는 현재 디렉토리에 있는 모든 파일을 보여준다. Running 탭은 현재 실행중인 프로그램이 무엇인지를 알려주고 Clusters 탭은 여러개의 프로그램을 병렬로 실행시킬 때 사용한다.\n",
    "\n",
    "쥬피터에서는 프로그램 파일을 모두 노트북(notebook)이라고 부르며 확장자는 .ipynb이다. 노트북에는 프로그램 코드 뿐 아니라, 설명문서, 그래프 등도 포함할 수 있다. 쥬피터는 일종의 파일관리자, 프로그램 실행관리자라고 볼 수 있으며, 실제로 파이선 코드를 실행하는 것은 커널(kernel) 프로세스가 담당한다. 쥬퍼터는 커널의 도움을 받아 프로그램을 실행하고 그 결과를 사용자에게 대화형으로 제공하는 인터페이스라고 할 수 있다.\n",
    "\n",
    "새로운 노트북을 만들려면 맨 우측 New 버튼을 클릭하고 Python3 노트북을 선택하면 된다. 아래와 같은 새로운 노트북 창이 나타난다.\n",
    "\n",
    "\n",
    "새로 만들어진 노트북의 이름은 “Untitled\"부분을 클릭하여 바꿀 수 있다. 위에서 In [ ] 부분을 셀이라고 한는데 현재 이 셀의 타입이 Code로 되어 있다(툴발 중간에 Code라는 단어가 보임). 즉, 현재 In [ ] 부분은 코드셀(code cell)이라고 부르며 파이선 코드를 입력할 수 있는 상태를 말한다.\n",
    "\n",
    "셀 타입이 코드셀이며 파이선 코드를 입력할 수 있고, 셀 타입을 문서 작성용으로 바꿀 수 있다. 아래와 같이 Code 우측의 드롭다운 메뉴를 누르면 Markdown을 선택할 수 있는 메뉴가 나타난다.\n",
    "\n",
    "\n",
    "\n",
    "여기서 Markdown을 선택하면 아래와 같이 In [ ] 없는 입력창이 나타난다. 이를 마크다운 셀이라고 하는데 이 셀은 문서를 편집하여 도큐먼트를 만드는데 사용된다. 즉 쥬피터 노트북은 코드 영역과 문서 영역을 쉽게 구분하여 작성할 수 있게 해준다.\n",
    "\n",
    "\n",
    "\n",
    "\n",
    "위의 마크다운 셀을 클릭하면 문서 내용을 입력할 수 있는데, 예를 들어 아래와같은 내용을 입력하였다고 하자.\n",
    "\n",
    "\n",
    "\n",
    "위의 내용처럼, '#'은 제목의 수준을 타나내는데 '#'의 갯수에 따라 제목이 수준이 \n",
    "정해지며 '#'의 갯수가 적을수록 상위 레벨의 제목이 된다. 문서 내용을 입력한 후에 Shift + 엔터키를 입력하면 마크다운이 적용된 포맷으로 보인다(아래 그림 참조). 마크다운 셀을 다시 편집하려면 해당 마크다운 셀 내부를 두 번 클릭하면 된다.\n",
    "\n",
    "\n",
    "즉, 마크다운 셀을 편집하려면 셀을 두번 클릭하면 되고, 마크다운이 적용된 (rendered) 표현을 보려면 Shift + 엔터 키를 입력하면 된다. 위의 마크다운 셀 실행 결과를 보면 맨 아래에 In [ ] 이 있는 셀 즉, 코드셀이 자동으로 나타나며 이곳에 파이선 코드를 입력할 수 있다. \n",
    "\n",
    "아래에 코드셀에 간단한 파이선 코드를 입력하고 이를 실행 (Shift + 엔터)한 결과를 보였다. 코드셀을 편집하려면 해당 셀 내부를 한번만 클릭하면 되고 다시 해당셀을 실행하려면 Shift + 엔터로 실행할 수 있다. 셀을 실행시키지 않고 편집 모드에서 빠져나오기만 하려면 Esc 키를 누르거나 화면의 셀 외부 다른 곳을 클릭하면 된다 (이 모드를 명령 모드라고 부른다). 명령 모드에서 a나 b를 입력하면 빈 셀을 현재 셀의 위나 아래에 하나 추가한다. 편집 모드의 셀은 초록색이고 명령 모드는 파란색으로 보인다.\n",
    "\n",
    "\n",
    "마크다운 셀이나 코드셀을 실행할 때 Shift + 엔터 가 아니라 Ctrl + 엔터 키를 사용하면 셀을 실행한 후 커서의 위치가 다음 셀로 이동하지 않고 현재 셀에 남아있게 된다.\n",
    "셀 편집 모드에서 셀을 두개로 분할하려면 분할하고 싶은 위치에서 Shift + Ctrl + '-' 키를 입력하면 된다."
   ]
  },
  {
   "cell_type": "markdown",
   "metadata": {
    "deletable": true,
    "editable": true
   },
   "source": [
    "## 파이선 맛보기\n",
    "\n",
    "코드셀(code cell)에 파이선 코드를 입력하고 Shift + 엔터키를 입력하면 코드가 실행된다\n",
    "\n",
    "파이선 문법은 다음 사이트에 자세히 소개되어 있다 https://docs.python.org/3.4/contents.html\n",
    "\n",
    "### 기초 문법\n",
    "lists, strings, tuples, dictionaries, for-loop, while-loop, if-else\n",
    "### 숫자, 문장 출력\n",
    "\n",
    "숫자, 문자열 등을 출력하려면 pritn() 함수를 아래와 같이 사용하면 된다.\n"
   ]
  },
  {
   "cell_type": "code",
   "execution_count": 4,
   "metadata": {
    "collapsed": false,
    "deletable": true,
    "editable": true,
    "scrolled": false
   },
   "outputs": [
    {
     "name": "stdout",
     "output_type": "stream",
     "text": [
      "처음 실행하는 파이선...\n"
     ]
    }
   ],
   "source": [
    "print(\"처음 실행하는 파이선...\")"
   ]
  },
  {
   "cell_type": "markdown",
   "metadata": {},
   "source": [
    "### 실습예제1\n",
    "본인의 이름을 출력해 보아라."
   ]
  },
  {
   "cell_type": "code",
   "execution_count": null,
   "metadata": {
    "collapsed": true
   },
   "outputs": [],
   "source": []
  },
  {
   "cell_type": "markdown",
   "metadata": {
    "collapsed": true,
    "deletable": true,
    "editable": true
   },
   "source": [
    "노트북에서 코드셀에는 일렬 번호가 자동으로 배정된다 (위에서는 [2] 임). 이 번호 숫자는 크게 신경쓰지 않아도 된다. 번호는 나중에 모두 없애거나 새로운 번호로 새로 배정할 수도 있다.\n",
    "\n",
    "셀을 삭제하거나 복사하려면 명령 모드에서 x, c, v 를 사용하면 된다. x는 셀 삭제, c는 복사, v는 붙여넣기를 한다.\n",
    "두개의 셀을 합치려면 Shict + m을 입력하고, 하나의 셀을 둘로 나누려면 Shift + Ctrl + '-'를 입력한다. 새로운 셀 삽입은 a(위에 삽입), b(아래 삽입)을 한다\n",
    "작업 중인 셀의 위치를 이동하려면 명령 모드에서 j, k 키를 사용하면 선택하는 셀의 위치를 위 아래로 이동한다 (또는 상하 표시 화살표를 이용해도 된다)\n",
    "\n",
    "코드셀을 실행한 결과 화면을 잠시 가리려면 명령 모드에서 'o' 를 입력하면 된다\n",
    "\n",
    "### 변수 사용\n",
    "\n",
    "변수는 아래와 같이 숫자, 문자열 등을 임의로 배정할 수 있다."
   ]
  },
  {
   "cell_type": "code",
   "execution_count": 5,
   "metadata": {
    "collapsed": false,
    "deletable": true,
    "editable": true
   },
   "outputs": [
    {
     "name": "stdout",
     "output_type": "stream",
     "text": [
      "홍길동 나이는 29\n",
      "홍길동2 나이는 33\n"
     ]
    }
   ],
   "source": [
    "age1 = 29\n",
    "age2 = 33\n",
    "name = '홍길동'\n",
    "name2 = \"홍길동2\"\n",
    "\n",
    "print(name, '나이는', age1)\n",
    "print(name2, '나이는', age2)"
   ]
  },
  {
   "cell_type": "code",
   "execution_count": 6,
   "metadata": {
    "collapsed": false,
    "deletable": true,
    "editable": true
   },
   "outputs": [
    {
     "name": "stdout",
     "output_type": "stream",
     "text": [
      "홍길동의\n",
      "집주소는\n",
      "여러줄로 되어있습니다\n"
     ]
    }
   ],
   "source": [
    "address = \"\"\"홍길동의\n",
    "집주소는\n",
    "여러줄로 되어있습니다\"\"\"\n",
    "print(address)"
   ]
  },
  {
   "cell_type": "code",
   "execution_count": 7,
   "metadata": {
    "collapsed": false,
    "deletable": true,
    "editable": true
   },
   "outputs": [
    {
     "name": "stdout",
     "output_type": "stream",
     "text": [
      "홍\n"
     ]
    }
   ],
   "source": [
    "print(name[0])\n",
    "# 문자열에서 특정 위치의 글자를 출력할 수 있다"
   ]
  },
  {
   "cell_type": "markdown",
   "metadata": {},
   "source": [
    "### 실습예제2\n",
    "myName 변수를 만들어 본인의 이름을 배정하고,\n",
    "myAge 변수를 만들어 본인의 나이를 배정한 뒤 출력해 보아라."
   ]
  },
  {
   "cell_type": "code",
   "execution_count": null,
   "metadata": {
    "collapsed": true
   },
   "outputs": [],
   "source": []
  },
  {
   "cell_type": "markdown",
   "metadata": {},
   "source": [
    "### 실습예제3\n",
    "myName변수에서 본인의 성만 출력해 보아라."
   ]
  },
  {
   "cell_type": "code",
   "execution_count": null,
   "metadata": {
    "collapsed": false
   },
   "outputs": [],
   "source": []
  },
  {
   "cell_type": "markdown",
   "metadata": {
    "deletable": true,
    "editable": true
   },
   "source": [
    "### 특수문자 출력\n",
    "\",  ',  \\, 등의 특수 문자를 화면에 출력하려면 앞에 '\\' 문자를 입력하면 된다. 새로운 라인을 출력하려면 \\n 을 입력하면 된다.\n",
    "\n",
    "print 문 안에서 문자열 전체를 그대로 출력하려면 'r'을 문자열 앞에 붙이면 된다(raw의 의미임)."
   ]
  },
  {
   "cell_type": "code",
   "execution_count": 8,
   "metadata": {
    "collapsed": false,
    "deletable": true,
    "editable": true
   },
   "outputs": [
    {
     "name": "stdout",
     "output_type": "stream",
     "text": [
      "Hello \"world\"\n",
      "A list:\n",
      "* item 1\n",
      "* item 2\n",
      "C:\\path\\on\\windows\n",
      "C:\\path\\on\\windows\n"
     ]
    }
   ],
   "source": [
    "print(\"Hello \\\"world\\\"\")\n",
    "print(\"A list:\\n* item 1\\n* item 2\")\n",
    "print(\"C:\\\\path\\\\on\\\\windows\")\n",
    "print(r\"C:\\path\\on\\windows\")"
   ]
  },
  {
   "cell_type": "markdown",
   "metadata": {},
   "source": [
    "### 실습예제4\n",
    "출력의 결과가 다음과 같이 나오도록 실습해 보아라.(코드는 한 줄로 작성, 새로운 라인포함 된것임.)\n",
    "\n",
    "파이썬 \"짱\" 좋아요\n",
    "너무좋아요!"
   ]
  },
  {
   "cell_type": "code",
   "execution_count": null,
   "metadata": {
    "collapsed": false,
    "scrolled": true
   },
   "outputs": [],
   "source": []
  },
  {
   "cell_type": "markdown",
   "metadata": {
    "deletable": true,
    "editable": true
   },
   "source": [
    "### 리스트\n",
    "여러 항목의 집합을 말하며 항목의 타입은 서로 달라도 되나, 대부분 같은 타입을 사용한다.\n",
    "리스트를 만들려면 아래와 같이 [ ]를 사용하고 각 항목을 ','로 구분하면 된다.\n",
    "리스트의 내용은 변경될 수 있다(mutable)"
   ]
  },
  {
   "cell_type": "code",
   "execution_count": 9,
   "metadata": {
    "collapsed": false,
    "deletable": true,
    "editable": true
   },
   "outputs": [
    {
     "data": {
      "text/plain": [
       "[1, 2, 3, 4, 'kim']"
      ]
     },
     "execution_count": 9,
     "metadata": {},
     "output_type": "execute_result"
    }
   ],
   "source": [
    "items = [1, 2, 3, 4, 'kim']\n",
    "items"
   ]
  },
  {
   "cell_type": "code",
   "execution_count": 10,
   "metadata": {
    "collapsed": false,
    "deletable": true,
    "editable": true
   },
   "outputs": [
    {
     "data": {
      "text/plain": [
       "5"
      ]
     },
     "execution_count": 10,
     "metadata": {},
     "output_type": "execute_result"
    }
   ],
   "source": [
    "# 리스트의 길이는 내장함수인 `len()`을 사용하여 알 수 있다.\n",
    "len(items)"
   ]
  },
  {
   "cell_type": "code",
   "execution_count": 11,
   "metadata": {
    "collapsed": false,
    "deletable": true,
    "editable": true
   },
   "outputs": [
    {
     "data": {
      "text/plain": [
       "[1, 2, 3, 4, 5]"
      ]
     },
     "execution_count": 11,
     "metadata": {},
     "output_type": "execute_result"
    }
   ],
   "source": [
    "items[4]=5\n",
    "# 5번째 항목을 문자열에서 숫자로 바꾸었다\n",
    "items"
   ]
  },
  {
   "cell_type": "markdown",
   "metadata": {
    "deletable": true,
    "editable": true
   },
   "source": [
    "내장 함수란 미리 만들어 둔 함수인데 아래 사이트에서 함수들을 확인할 수 있다. https://docs.python.org/3.4/library/functions.html.\n",
    "\n",
    "아래는 리스트의 합계를 구하는 내장함수 sum()의 사용예이다"
   ]
  },
  {
   "cell_type": "markdown",
   "metadata": {
    "deletable": true,
    "editable": true
   },
   "source": [
    "리스트 내의 측정 항목은 아래와 같이 인덱스로 찾을 수 있다. 인덴스는 0부터 시작한다. 뒤에서부터 항목을 찾을 수도 있는데 이때는 -3과 같이 마이너스 기호를 붙이면 된다."
   ]
  },
  {
   "cell_type": "code",
   "execution_count": 12,
   "metadata": {
    "collapsed": false,
    "deletable": true,
    "editable": true
   },
   "outputs": [
    {
     "data": {
      "text/plain": [
       "1"
      ]
     },
     "execution_count": 12,
     "metadata": {},
     "output_type": "execute_result"
    }
   ],
   "source": [
    "items[0]"
   ]
  },
  {
   "cell_type": "code",
   "execution_count": 13,
   "metadata": {
    "collapsed": false,
    "deletable": true,
    "editable": true
   },
   "outputs": [
    {
     "data": {
      "text/plain": [
       "5"
      ]
     },
     "execution_count": 13,
     "metadata": {},
     "output_type": "execute_result"
    }
   ],
   "source": [
    "items[-1]"
   ]
  },
  {
   "cell_type": "code",
   "execution_count": 14,
   "metadata": {
    "collapsed": false,
    "deletable": true,
    "editable": true
   },
   "outputs": [
    {
     "data": {
      "text/plain": [
       "[2, 3, 4]"
      ]
     },
     "execution_count": 14,
     "metadata": {},
     "output_type": "execute_result"
    }
   ],
   "source": [
    "# 리스트의 일부 구간만 얻으려면(slice) ':'를 사용한다\n",
    "items[1:4]"
   ]
  },
  {
   "cell_type": "markdown",
   "metadata": {},
   "source": [
    "### 실습예제5\n",
    "1,2,3,4,5 순서대로 myList 변수에 리스트를 만들고 마지막에 6을 추가하는 내장함수를 사용해 보고 \n",
    "뒤에서 세번째까지만 출력해 보아라.\n",
    "\n",
    "HINT. 리스트 a의 마지막에 x를 추가하는 함수는 다음과 같다.  a.append(x)"
   ]
  },
  {
   "cell_type": "code",
   "execution_count": null,
   "metadata": {
    "collapsed": false
   },
   "outputs": [],
   "source": []
  },
  {
   "cell_type": "markdown",
   "metadata": {
    "deletable": true,
    "editable": true
   },
   "source": [
    "### 튜플\n",
    "리스트와 달리 **튜플(Tuples)** 을 사용하면 고정된 값들로 구성된 리스트를 만들 수 있다. 즉, 값을 나중에 바꿀 수 없다. 이렇게 나중에 값을 바꿀 수 없는 것을 immutable하다고 부른다.\n"
   ]
  },
  {
   "cell_type": "code",
   "execution_count": 15,
   "metadata": {
    "collapsed": false,
    "deletable": true,
    "editable": true
   },
   "outputs": [
    {
     "name": "stdout",
     "output_type": "stream",
     "text": [
      "(1, 2, 3)\n",
      "(4, 5, 6, 7)\n"
     ]
    }
   ],
   "source": [
    "# 튜플은 ( )를 사용하여 만들거나 , 로 구분만 해도 된다\n",
    "my_tuple = (1, 2, 3)\n",
    "your_tuple = 4,5,6,7\n",
    "print(my_tuple)\n",
    "print(your_tuple)"
   ]
  },
  {
   "cell_type": "code",
   "execution_count": 16,
   "metadata": {
    "collapsed": false,
    "deletable": true,
    "editable": true
   },
   "outputs": [
    {
     "name": "stdout",
     "output_type": "stream",
     "text": [
      "1\n"
     ]
    }
   ],
   "source": [
    "# 특정 항목을 찾을 때는 리스트와 같이 [ ]를 사용한다\n",
    "print(my_tuple[0])"
   ]
  },
  {
   "cell_type": "code",
   "execution_count": 17,
   "metadata": {
    "collapsed": false,
    "deletable": true,
    "editable": true
   },
   "outputs": [
    {
     "ename": "TypeError",
     "evalue": "'tuple' object does not support item assignment",
     "output_type": "error",
     "traceback": [
      "\u001b[0;31m---------------------------------------------------------------------------\u001b[0m",
      "\u001b[0;31mTypeError\u001b[0m                                 Traceback (most recent call last)",
      "\u001b[0;32m<ipython-input-17-b38a5dfc18b0>\u001b[0m in \u001b[0;36m<module>\u001b[0;34m()\u001b[0m\n\u001b[0;32m----> 1\u001b[0;31m \u001b[0mmy_tuple\u001b[0m\u001b[1;33m[\u001b[0m\u001b[1;36m2\u001b[0m\u001b[1;33m]\u001b[0m \u001b[1;33m=\u001b[0m \u001b[1;36m7\u001b[0m\u001b[1;33m\u001b[0m\u001b[0m\n\u001b[0m\u001b[1;32m      2\u001b[0m \u001b[1;31m# 튜플 값을 변경하는 것은 안된다\u001b[0m\u001b[1;33m\u001b[0m\u001b[1;33m\u001b[0m\u001b[0m\n",
      "\u001b[0;31mTypeError\u001b[0m: 'tuple' object does not support item assignment"
     ]
    }
   ],
   "source": [
    "my_tuple[2] = 7\n",
    "# 튜플 값을 변경하는 것은 불가능하다"
   ]
  },
  {
   "cell_type": "markdown",
   "metadata": {},
   "source": [
    "### 실습예제6\n",
    "괄호를 이용하여 myTuple변수에 1,3,5,7,9를 선언하고, 튜플의 값을 임의로 변경해 보아라. "
   ]
  },
  {
   "cell_type": "code",
   "execution_count": null,
   "metadata": {
    "collapsed": true
   },
   "outputs": [],
   "source": []
  },
  {
   "cell_type": "markdown",
   "metadata": {
    "deletable": true,
    "editable": true
   },
   "source": [
    "### 딕셔너리(Dictionaries)\n",
    "딕셔너리를 사용하면 키-값의 조합을 항목으로 갖는 리스트를 만들 수 있다. 딕셔너리에서는 항목을 찾을 때 키를 사용하며, 딕셔너너리에서 순서는 중요시하지 않는다. 딕셔너리는 { }로 만든다."
   ]
  },
  {
   "cell_type": "code",
   "execution_count": 18,
   "metadata": {
    "collapsed": false,
    "deletable": true,
    "editable": true
   },
   "outputs": [
    {
     "name": "stdout",
     "output_type": "stream",
     "text": [
      "a: 1\n",
      "dict_keys(['a', 'b', 'c'])\n"
     ]
    }
   ],
   "source": [
    "my_dict = {'a': 1, 'b': 2, 'c': 3}\n",
    "print('a:', my_dict['a'])\n",
    "print(my_dict.keys())"
   ]
  },
  {
   "cell_type": "markdown",
   "metadata": {},
   "source": [
    "### 실습예제7\n",
    "\n",
    "딕셔너리에도 내장함수가 존재한다. 딕셔너리 a의 Key들을 모아놓은 리스트를 돌려주는 함수는 a.keys()이다.\n",
    "딕셔너리 myDic변수에 'a' : 1, 'b' : 2, 'c' : 3, 'd' : 4, 'e': 5를 선언하고 \n",
    "딕셔너리 myDic의 key들을 모아놓은 리스트를 출력해 보아라."
   ]
  },
  {
   "cell_type": "code",
   "execution_count": null,
   "metadata": {
    "collapsed": true
   },
   "outputs": [],
   "source": []
  },
  {
   "cell_type": "markdown",
   "metadata": {
    "deletable": true,
    "editable": true
   },
   "source": [
    "### for 루프\n",
    "\n",
    "여러 항목에 대해 동작을 반복할 때 for 루프를 실행할 수 있는데, 주의할 것은 for 문장의 끝에는 ':'가 있어야 하며 for 문이 적용되는 블록(block) 영역은 반드시 들여쓰기 (indentation)을 해야 한다. 들여쓰기는 한 프로그램 내에서 모두 같은 크기로 지정해야 하는데 일반적으로 스페이스 4개 또는 탭을 사용한다."
   ]
  },
  {
   "cell_type": "code",
   "execution_count": 19,
   "metadata": {
    "collapsed": false,
    "deletable": true,
    "editable": true,
    "scrolled": true
   },
   "outputs": [
    {
     "name": "stdout",
     "output_type": "stream",
     "text": [
      "1\n",
      "2\n",
      "3\n",
      "4\n",
      "5\n"
     ]
    }
   ],
   "source": [
    "for item in items:\n",
    "    print(item)"
   ]
  },
  {
   "cell_type": "code",
   "execution_count": 20,
   "metadata": {
    "collapsed": false,
    "deletable": true,
    "editable": true
   },
   "outputs": [
    {
     "name": "stdout",
     "output_type": "stream",
     "text": [
      "2\n",
      "4\n",
      "6\n",
      "8\n",
      "10\n"
     ]
    }
   ],
   "source": [
    "for i in (1,2,3,4,5):\n",
    "    print (i*2)"
   ]
  },
  {
   "cell_type": "code",
   "execution_count": 21,
   "metadata": {
    "collapsed": false,
    "deletable": true,
    "editable": true,
    "scrolled": true
   },
   "outputs": [
    {
     "name": "stdout",
     "output_type": "stream",
     "text": [
      "3\n",
      "6\n",
      "9\n",
      "12\n",
      "15\n"
     ]
    }
   ],
   "source": [
    "for i in range(1,6):\n",
    "    print (i*3)\n",
    "    \n",
    "# range 구간에서 마지막 값은 포함되지 않는다"
   ]
  },
  {
   "cell_type": "code",
   "execution_count": 22,
   "metadata": {
    "collapsed": false,
    "deletable": true,
    "editable": true
   },
   "outputs": [
    {
     "data": {
      "text/plain": [
       "[1, 4, 9, 16, 25]"
      ]
     },
     "execution_count": 22,
     "metadata": {},
     "output_type": "execute_result"
    }
   ],
   "source": [
    "# 아래와 같이 for 문장을 간결하게 쓰는 방법도 있다. 이를 list comprehension이라고 부른다.\n",
    "\n",
    "squares = [i * i for i in items]\n",
    "squares"
   ]
  },
  {
   "cell_type": "code",
   "execution_count": 23,
   "metadata": {
    "collapsed": false,
    "deletable": true,
    "editable": true
   },
   "outputs": [
    {
     "ename": "NameError",
     "evalue": "name 'Series' is not defined",
     "output_type": "error",
     "traceback": [
      "\u001b[0;31m---------------------------------------------------------------------------\u001b[0m",
      "\u001b[0;31mNameError\u001b[0m                                 Traceback (most recent call last)",
      "\u001b[0;32m<ipython-input-23-8a101e12b11a>\u001b[0m in \u001b[0;36m<module>\u001b[0;34m()\u001b[0m\n\u001b[1;32m      1\u001b[0m \u001b[1;31m# 시리즈를 사용하여 컬럼 값을 입력할 수 있다 (없는 인덱스는 NaN이 된다)\u001b[0m\u001b[1;33m\u001b[0m\u001b[1;33m\u001b[0m\u001b[0m\n\u001b[0;32m----> 2\u001b[0;31m \u001b[0mval\u001b[0m \u001b[1;33m=\u001b[0m \u001b[0mSeries\u001b[0m\u001b[1;33m(\u001b[0m\u001b[1;33m[\u001b[0m\u001b[1;33m-\u001b[0m\u001b[1;36m1.2\u001b[0m\u001b[1;33m,\u001b[0m \u001b[1;33m-\u001b[0m\u001b[1;36m1.5\u001b[0m\u001b[1;33m,\u001b[0m \u001b[1;33m-\u001b[0m\u001b[1;36m1.7\u001b[0m\u001b[1;33m]\u001b[0m\u001b[1;33m,\u001b[0m \u001b[0mindex\u001b[0m\u001b[1;33m=\u001b[0m\u001b[1;33m[\u001b[0m\u001b[1;34m'two'\u001b[0m\u001b[1;33m,\u001b[0m \u001b[1;34m'four'\u001b[0m\u001b[1;33m,\u001b[0m \u001b[1;34m'five'\u001b[0m\u001b[1;33m]\u001b[0m\u001b[1;33m)\u001b[0m\u001b[1;33m\u001b[0m\u001b[0m\n\u001b[0m\u001b[1;32m      3\u001b[0m \u001b[0mframe2\u001b[0m\u001b[1;33m[\u001b[0m\u001b[1;34m'debt'\u001b[0m\u001b[1;33m]\u001b[0m \u001b[1;33m=\u001b[0m \u001b[0mval\u001b[0m\u001b[1;33m\u001b[0m\u001b[0m\n\u001b[1;32m      4\u001b[0m \u001b[0mframe2\u001b[0m\u001b[1;33m\u001b[0m\u001b[0m\n",
      "\u001b[0;31mNameError\u001b[0m: name 'Series' is not defined"
     ]
    }
   ],
   "source": [
    "# 시리즈를 사용하여 컬럼 값을 입력할 수 있다 (없는 인덱스는 NaN이 된다)\n",
    "val = Series([-1.2, -1.5, -1.7], index=['two', 'four', 'five'])\n",
    "frame2['debt'] = val\n",
    "frame2"
   ]
  },
  {
   "cell_type": "markdown",
   "metadata": {},
   "source": [
    "### 실습예제8\n",
    "\n",
    "for문과 range를 사용하여 구구단 2단을 출력해 보아라."
   ]
  },
  {
   "cell_type": "code",
   "execution_count": null,
   "metadata": {
    "collapsed": true
   },
   "outputs": [],
   "source": []
  },
  {
   "cell_type": "markdown",
   "metadata": {},
   "source": [
    "### 실습예제9\n",
    "\n",
    "se_dic변수에 1:1, 2:4, 3:9로 딕셔너리를 선언해주고, key값과 value값을 출력해 보아라."
   ]
  },
  {
   "cell_type": "code",
   "execution_count": null,
   "metadata": {
    "collapsed": true
   },
   "outputs": [],
   "source": []
  },
  {
   "cell_type": "markdown",
   "metadata": {
    "deletable": true,
    "editable": true
   },
   "source": [
    "### if 문"
   ]
  },
  {
   "cell_type": "code",
   "execution_count": 24,
   "metadata": {
    "collapsed": false,
    "deletable": true,
    "editable": true,
    "scrolled": true
   },
   "outputs": [
    {
     "name": "stdout",
     "output_type": "stream",
     "text": [
      "2\n",
      "4\n"
     ]
    }
   ],
   "source": [
    "for item in items:\n",
    "    if item % 2 == 0:\n",
    "        print(item)\n",
    "\n",
    "# 위에서 조건문을 확인할 때에는 '=='를 사용하며, '=' 는 변수에 값을 지정할 때 사용한다. if문도 뒤에 `:`가 와야 하며, \n",
    "# 이 조건이 만족될 때 실행되는 코드 블록은 들여쓰기를 해야 한다"
   ]
  },
  {
   "cell_type": "markdown",
   "metadata": {},
   "source": [
    "### 실습예제10\n",
    "\n",
    "myGrade변수에 100을 선언하고  \n",
    "if문을 사용하여 myGrade값이 100인 경우이면 \"만점입니다!\"를 출력해 보시오."
   ]
  },
  {
   "cell_type": "code",
   "execution_count": null,
   "metadata": {
    "collapsed": true
   },
   "outputs": [],
   "source": []
  },
  {
   "cell_type": "markdown",
   "metadata": {},
   "source": [
    "### 실습예제11\n",
    "\n",
    "myMoney변수에 3000을 선언하고 if문을 사용하여 3000원이상이면 \"택시를 타라\"를 출력해보아라.\n",
    "(비교연산자 사용)"
   ]
  },
  {
   "cell_type": "code",
   "execution_count": null,
   "metadata": {
    "collapsed": true
   },
   "outputs": [],
   "source": []
  },
  {
   "cell_type": "markdown",
   "metadata": {
    "deletable": true,
    "editable": true
   },
   "source": [
    "## 라이브러리"
   ]
  },
  {
   "cell_type": "code",
   "execution_count": 25,
   "metadata": {
    "collapsed": false,
    "deletable": true,
    "editable": true
   },
   "outputs": [
    {
     "data": {
      "text/plain": [
       "24"
      ]
     },
     "execution_count": 25,
     "metadata": {},
     "output_type": "execute_result"
    }
   ],
   "source": [
    "# 라이브러리를 불러 쓰려면 import를 호출해야 한다\n",
    "# 아래는 수학 라이브러리인 math를 부르는 명령이며 이 라이브러리 이름을= 편리하게 'm'으로 부른다는 뜻이다\n",
    "\n",
    "import math as m\n",
    "m.factorial(4)"
   ]
  },
  {
   "cell_type": "markdown",
   "metadata": {
    "deletable": true,
    "editable": true
   },
   "source": [
    "파이선이 제공하는 대표적인 라이브러리는 다음과 같다.\n",
    "\n",
    "**NumPy** (Numerical Python) 다차원 어레이를 쓸 수 있게 한다. 선형대수 처리, 푸리에 변형(스펙트럼 분석) 등을 제공한다\n",
    "\n",
    "**SciPy** (Scientific Python). SciPy는 NumPy 가 설치되어야 실행된다. 공학적, 과학적 계산 기능을 제공한다.\n",
    "\n",
    "**Matplotlib** 히스토그램, 히트맵 등 다양한 그림을 그리는데 사용된다.\n",
    "\n",
    "**Pandas** 데이터를 구조화해서 사용할 때 편리하다. 데이터의 구조를 파악하고 결측치 처리등을 할 때 편리하다.\n",
    "\n",
    "**Scikit Learn** 기계하가습용 라이브러리로 NumPy, SciPy, matplotlib을 사용한다. 기계학습의 대표적인 기능은 분류, 리그레션, 클러스터링, 차원축소 등의 기능을 제공한다.\n",
    "\n",
    "**Statsmodels** 통계모델링에 사용한다. 데이터를 탐색하고, 통계적모델을 만들고 테스트하는데 사용된다.\n",
    "\n",
    "**Seaborn** matplotlib 위에서 실행되면 좀 더 세련된 그래픽, 시각화 기능을 제공한다."
   ]
  },
  {
   "cell_type": "markdown",
   "metadata": {
    "deletable": true,
    "editable": true
   },
   "source": [
    "### 함수\n",
    "\n",
    "자주 사용되는 기능을 함수로 정의해 두고 나중에 불러쓰는 것이 프로그래밍의 기초이다. 아래는 입력받은 숫자(아래에서 number)가 짝수인지를 찾아내는 함수 정의이다. 함수는 def 문으로 정의하며 정의문은':'으로 끝나야 한다. 아래에서 \"\"\"로 시작하고 끝나는 부분은 코멘트 영역이다.\n",
    "\n",
    "함수가 실행되고 나면 'return' 부분이 출력으로 얻게 되는 부분이다. 위의 함수에서는 리턴문이 '=='를 포함하고 있으므로 이는 Boolean 값을 리턴한다. 즉 True나 False 중에 한 값을 리턴한다.\n",
    "\n",
    "위에서 정의된 함수를 상용하는 예는 아래와 같다."
   ]
  },
  {
   "cell_type": "code",
   "execution_count": 26,
   "metadata": {
    "collapsed": false,
    "deletable": true,
    "editable": true
   },
   "outputs": [
    {
     "data": {
      "text/plain": [
       "True"
      ]
     },
     "execution_count": 26,
     "metadata": {},
     "output_type": "execute_result"
    }
   ],
   "source": [
    "def is_even(number):\n",
    "    \"\"\"Return whether an integer is even or not.\"\"\"\n",
    "    return number % 2 == 0\n",
    "\n",
    "is_even(3)\n",
    "\n",
    "is_even(4)"
   ]
  },
  {
   "cell_type": "markdown",
   "metadata": {},
   "source": [
    "### 실습예제11\n",
    "\n",
    "더하기를 수행하는 함수를 만들어 보아라.\n",
    "함수의 이름은 add이다. 인자는 a와 b를 주어라."
   ]
  },
  {
   "cell_type": "code",
   "execution_count": null,
   "metadata": {
    "collapsed": true
   },
   "outputs": [],
   "source": []
  },
  {
   "cell_type": "markdown",
   "metadata": {
    "deletable": true,
    "editable": true
   },
   "source": [
    "### 함수 호출 방법\n",
    "\n",
    "함수를 호출 할 때 인자 값으로 디폴트로 정해진 값을 사용하는 것이 가능하다. 아래의 예에서 두번째 인자 값을 지정하지 않으면 디폴트로 2가 사용된다. 또는 인자의 이름을 명시해서 호출하는 것도 가능하다."
   ]
  },
  {
   "cell_type": "code",
   "execution_count": 27,
   "metadata": {
    "collapsed": false,
    "deletable": true,
    "editable": true
   },
   "outputs": [
    {
     "data": {
      "text/plain": [
       "2"
      ]
     },
     "execution_count": 27,
     "metadata": {},
     "output_type": "execute_result"
    }
   ],
   "source": [
    "def remainder(number, divisor=2):\n",
    "    return number % divisor\n",
    "\n",
    "remainder(5)\n",
    "\n",
    "remainder(5, 3)\n",
    "\n",
    "remainder(5, divisor=3)"
   ]
  },
  {
   "cell_type": "markdown",
   "metadata": {
    "deletable": true,
    "editable": true
   },
   "source": [
    "함수는 여러개의 변수를 인자로 받을 수 있는데, 위치로 값을 받는 인자를 위치(positional) 인자라고 하고 키값을 지정하는 인자를 키타입(keyword) 인자라고 한다."
   ]
  },
  {
   "cell_type": "code",
   "execution_count": 28,
   "metadata": {
    "collapsed": false,
    "deletable": true,
    "editable": true,
    "scrolled": true
   },
   "outputs": [
    {
     "name": "stdout",
     "output_type": "stream",
     "text": [
      "Positional arguments: (1, 2)\n",
      "Keyword arguments: {'c': 3, 'd': 4}\n"
     ]
    },
    {
     "data": {
      "text/plain": [
       "'HELLO'"
      ]
     },
     "execution_count": 28,
     "metadata": {},
     "output_type": "execute_result"
    }
   ],
   "source": [
    "def f(*args, **kwargs):\n",
    "    print(\"Positional arguments:\", args)\n",
    "    print(\"Keyword arguments:\", kwargs)\n",
    "\n",
    "f(1, 2, c=3, d=4)\n",
    "# 위에서 `args`는 위치 인자들을 포함하는 튜플을 가리키고, `kwargs`는 키타입 인자를 포함하는 딕셔너리를 가리킨다.\n",
    "\n",
    "'hello'.upper()\n",
    "# 여기서 `upper()`함수는 `str` 객체가 지원하는 메소드이고 'hello'가 str 타입의 객체이므로 upper() 함수를 호출할 수 있는 것이다.\n",
    "# 파이선 객체 뒤에 '.'을 입력하고 탭을 누르면 어떤 함수들이 지원되는지를 보여준다"
   ]
  },
  {
   "cell_type": "markdown",
   "metadata": {},
   "source": [
    "### 실습예제12\n",
    "\n",
    "본인의 이름을 출력하는 함수를 만들어 보아라.\n",
    "함수의 이름은 say_myName으로 하고, 인자는 2개로, 두번째오는 인자 값으로 디폴트로 정해준다. \n",
    "def say_myName(name, y = 'genius') 형식으로!\n",
    "본인의 이름과 y를 출력하는 함수를 완성해 보아라"
   ]
  },
  {
   "cell_type": "code",
   "execution_count": null,
   "metadata": {
    "collapsed": true
   },
   "outputs": [],
   "source": []
  }
 ],
 "metadata": {
  "kernelspec": {
   "display_name": "Python 3",
   "language": "python",
   "name": "python3"
  },
  "language_info": {
   "codemirror_mode": {
    "name": "ipython",
    "version": 3
   },
   "file_extension": ".py",
   "mimetype": "text/x-python",
   "name": "python",
   "nbconvert_exporter": "python",
   "pygments_lexer": "ipython3",
   "version": "3.6.0"
  }
 },
 "nbformat": 4,
 "nbformat_minor": 2
}
