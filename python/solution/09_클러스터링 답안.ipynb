{
 "cells": [
  {
   "cell_type": "markdown",
   "metadata": {},
   "source": [
    "# 클러스터링(K-Means)"
   ]
  },
  {
   "cell_type": "code",
   "execution_count": 8,
   "metadata": {
    "collapsed": false,
    "deletable": true,
    "editable": true
   },
   "outputs": [],
   "source": [
    "# 모듈 선언\n",
    "import pandas as pd\n",
    "import numpy as np\n",
    "from scipy.cluster.hierarchy import dendrogram, linkage\n",
    "from scipy.spatial import distance\n",
    "from sklearn.cluster import KMeans\n",
    "from matplotlib import pyplot as plt\n",
    "import seaborn as sns"
   ]
  },
  {
   "cell_type": "code",
   "execution_count": 9,
   "metadata": {
    "collapsed": false,
    "deletable": true,
    "editable": true
   },
   "outputs": [
    {
     "name": "stdout",
     "output_type": "stream",
     "text": [
      "1.0\n"
     ]
    }
   ],
   "source": [
    "from sklearn.metrics import jaccard_similarity_score\n",
    "# 자카드 유사도 - (두 집합의 교집합 수) / (두 집합의 합집합 수)\n",
    "y_pred = [0, 1, 2, 7]\n",
    "y_true = [0, 1, 2, 7]\n",
    "print(jaccard_similarity_score(y_true, y_pred))\n",
    "# print(jaccard_similarity_score(y_true, y_pred, normalize=False))"
   ]
  },
  {
   "cell_type": "code",
   "execution_count": 14,
   "metadata": {
    "collapsed": false,
    "deletable": true,
    "editable": true,
    "scrolled": false
   },
   "outputs": [],
   "source": [
    "# scipy 덴드로그램\n",
    "data1 = pd.read_csv('data/sample2d.csv') # 주어진 데이터를 read\n",
    "ksample = data1.drop('name', axis=1) # name순으로 정렬"
   ]
  },
  {
   "cell_type": "markdown",
   "metadata": {
    "collapsed": false,
    "deletable": true,
    "editable": true,
    "scrolled": false
   },
   "source": [
    "### 실습예제 1\n",
    "sklearn 모듈의 KMeans 알고리즘을 사용하여, KSample을 3그룹으로 clustering 한 뒤 출력해 보시오."
   ]
  },
  {
   "cell_type": "code",
   "execution_count": 15,
   "metadata": {
    "collapsed": false
   },
   "outputs": [
    {
     "data": {
      "text/plain": [
       "<matplotlib.figure.Figure at 0x2c809db4160>"
      ]
     },
     "metadata": {},
     "output_type": "display_data"
    },
    {
     "data": {
      "image/png": "[encoded data removed]",
      "text/plain": [
       "<matplotlib.figure.Figure at 0x2c80a107198>"
      ]
     },
     "metadata": {},
     "output_type": "display_data"
    }
   ],
   "source": [
    "k = KMeans(n_clusters= 3).fit(ksample)\n",
    "\n",
    "plt.clf()\n",
    "plt.figure(figsize=(15, 10))\n",
    "plt.scatter(ksample['x'], ksample['y'], c=k.labels_[:],s=500)\n",
    "# 결과를 출력 => ksample의 좌표를 찍고, color를 클러스터값으로 칠한다\n",
    "plt.show()"
   ]
  },
  {
   "cell_type": "markdown",
   "metadata": {
    "deletable": true,
    "editable": true
   },
   "source": [
    "## Example 2 - 운동선수 클러스터링\n",
    "운동 선수들의 키와 몸무게의 정보를 이용하여, 같은 운동을 하는 선수들의 그룹을 예상하여 만들어 보는 예제이다."
   ]
  },
  {
   "cell_type": "code",
   "execution_count": 23,
   "metadata": {
    "collapsed": false,
    "deletable": true,
    "editable": true
   },
   "outputs": [],
   "source": [
    "heightweight = pd.read_csv('data/heightweight.csv') # 높이와 무게의 data를 read"
   ]
  },
  {
   "cell_type": "code",
   "execution_count": 24,
   "metadata": {
    "collapsed": false
   },
   "outputs": [
    {
     "data": {
      "text/html": [
       "<div>\n",
       "<table border=\"1\" class=\"dataframe\">\n",
       "  <thead>\n",
       "    <tr style=\"text-align: right;\">\n",
       "      <th></th>\n",
       "      <th>Height</th>\n",
       "      <th>Weight</th>\n",
       "    </tr>\n",
       "  </thead>\n",
       "  <tbody>\n",
       "    <tr>\n",
       "      <th>0</th>\n",
       "      <td>-0.089937</td>\n",
       "      <td>0.245872</td>\n",
       "    </tr>\n",
       "    <tr>\n",
       "      <th>1</th>\n",
       "      <td>-1.411467</td>\n",
       "      <td>-1.443327</td>\n",
       "    </tr>\n",
       "    <tr>\n",
       "      <th>2</th>\n",
       "      <td>0.636904</td>\n",
       "      <td>-0.227104</td>\n",
       "    </tr>\n",
       "    <tr>\n",
       "      <th>3</th>\n",
       "      <td>-1.874002</td>\n",
       "      <td>-1.646031</td>\n",
       "    </tr>\n",
       "    <tr>\n",
       "      <th>4</th>\n",
       "      <td>-0.089937</td>\n",
       "      <td>0.583712</td>\n",
       "    </tr>\n",
       "  </tbody>\n",
       "</table>\n",
       "</div>"
      ],
      "text/plain": [
       "     Height    Weight\n",
       "0 -0.089937  0.245872\n",
       "1 -1.411467 -1.443327\n",
       "2  0.636904 -0.227104\n",
       "3 -1.874002 -1.646031\n",
       "4 -0.089937  0.583712"
      ]
     },
     "execution_count": 24,
     "metadata": {},
     "output_type": "execute_result"
    }
   ],
   "source": [
    "# z 정규화\n",
    "zscore = lambda x : (x - x.mean())/ x.std() # 정규화 식을 lamda를 이용해 함수 zscore 생성\n",
    "heightweight_z = heightweight.apply(zscore) # 정규화 함수를 이용해 새로운 dataframe 생성\n",
    "heightweight_z.head()"
   ]
  },
  {
   "cell_type": "markdown",
   "metadata": {},
   "source": [
    "### 실습예제 2\n",
    "sklearn 모듈의 kmeans 함수를 이용해 heightweight를 5그룹으로 clustering 한 뒤 출력 해 보시오. \n",
    "(단, cluster정보는 dataframe 내부에 존재해야 한다.)"
   ]
  },
  {
   "cell_type": "code",
   "execution_count": 28,
   "metadata": {
    "collapsed": false
   },
   "outputs": [
    {
     "data": {
      "text/plain": [
       "<matplotlib.figure.Figure at 0x2c80a2ac0f0>"
      ]
     },
     "metadata": {},
     "output_type": "display_data"
    },
    {
     "data": {
      "text/plain": [
       "<matplotlib.figure.Figure at 0x2c80a2ac1d0>"
      ]
     },
     "metadata": {},
     "output_type": "display_data"
    },
    {
     "data": {
      "text/plain": [
       "<matplotlib.figure.Figure at 0x2c80b459668>"
      ]
     },
     "metadata": {},
     "output_type": "display_data"
    },
    {
     "data": {
      "text/plain": [
       "<matplotlib.figure.Figure at 0x2c80a383e80>"
      ]
     },
     "metadata": {},
     "output_type": "display_data"
    },
    {
     "data": {
      "text/plain": [
       "<matplotlib.figure.Figure at 0x2c80bd17cc0>"
      ]
     },
     "metadata": {},
     "output_type": "display_data"
    },
    {
     "data": {
      "text/plain": [
       "<matplotlib.figure.Figure at 0x2c80a3ab4e0>"
      ]
     },
     "metadata": {},
     "output_type": "display_data"
    },
    {
     "data": {
      "text/plain": [
       "<matplotlib.figure.Figure at 0x2c80be26898>"
      ]
     },
     "metadata": {},
     "output_type": "display_data"
    },
    {
     "data": {
      "image/png": "[encoded data removed]",
      "text/plain": [
       "<matplotlib.figure.Figure at 0x2c80be26128>"
      ]
     },
     "metadata": {},
     "output_type": "display_data"
    }
   ],
   "source": [
    "cluster2 = KMeans(n_clusters= 5).fit(heightweight_z) # 5 그룹으로 클러스터링\n",
    "heightweight['cluster2'] = cluster2.labels_[:] # example1과 다르게 dataframe 내부에 정보 삽입\n",
    "\n",
    "plt.clf()\n",
    "plt.figure(figsize=(15, 10))\n",
    "plt.ylabel('Height (unit : cm)')\n",
    "plt.xlabel('Weight (unit : kg)')\n",
    "plt.scatter(heightweight['Weight'], heightweight['Height'], c=heightweight['cluster2'])\n",
    "# dataframe 내부에 clurster정보가 존재하기 때문에 color에 cluster1.labels_[:]를 사용하지 않음\n",
    "plt.show()"
   ]
  },
  {
   "cell_type": "markdown",
   "metadata": {
    "deletable": true,
    "editable": true
   },
   "source": [
    "## Example 3 - 자동차 클러스터링\n",
    "자동차들의 정보들을 이용하여 클러스터링하는 예제\n",
    "- MPG(1갤런으로 갈 수 있는 마일)\n",
    "- GPM(100마일을 가는데 필요한 갤런)\n",
    "- WT(차의 무게 1000파운드 단위)\n",
    "- DIS(배기량)\n",
    "- NC(실린더 수)\n",
    "- HP(마력 수)\n",
    "- ACC(가속도)\n",
    "- ET(엔진 유형)"
   ]
  },
  {
   "cell_type": "code",
   "execution_count": 30,
   "metadata": {
    "collapsed": false,
    "deletable": true,
    "editable": true
   },
   "outputs": [
    {
     "data": {
      "text/html": [
       "<div>\n",
       "<table border=\"1\" class=\"dataframe\">\n",
       "  <thead>\n",
       "    <tr style=\"text-align: right;\">\n",
       "      <th></th>\n",
       "      <th>MPG</th>\n",
       "      <th>GPM</th>\n",
       "      <th>WT</th>\n",
       "      <th>DIS</th>\n",
       "      <th>NC</th>\n",
       "      <th>HP</th>\n",
       "      <th>ACC</th>\n",
       "      <th>ET</th>\n",
       "    </tr>\n",
       "  </thead>\n",
       "  <tbody>\n",
       "    <tr>\n",
       "      <th>0</th>\n",
       "      <td>16.9</td>\n",
       "      <td>5.917</td>\n",
       "      <td>4.360</td>\n",
       "      <td>350</td>\n",
       "      <td>8</td>\n",
       "      <td>155</td>\n",
       "      <td>14.9</td>\n",
       "      <td>1</td>\n",
       "    </tr>\n",
       "    <tr>\n",
       "      <th>1</th>\n",
       "      <td>15.5</td>\n",
       "      <td>6.452</td>\n",
       "      <td>4.054</td>\n",
       "      <td>351</td>\n",
       "      <td>8</td>\n",
       "      <td>142</td>\n",
       "      <td>14.3</td>\n",
       "      <td>1</td>\n",
       "    </tr>\n",
       "    <tr>\n",
       "      <th>2</th>\n",
       "      <td>19.2</td>\n",
       "      <td>5.208</td>\n",
       "      <td>3.605</td>\n",
       "      <td>267</td>\n",
       "      <td>8</td>\n",
       "      <td>125</td>\n",
       "      <td>15.0</td>\n",
       "      <td>1</td>\n",
       "    </tr>\n",
       "    <tr>\n",
       "      <th>3</th>\n",
       "      <td>18.5</td>\n",
       "      <td>5.405</td>\n",
       "      <td>3.940</td>\n",
       "      <td>360</td>\n",
       "      <td>8</td>\n",
       "      <td>150</td>\n",
       "      <td>13.0</td>\n",
       "      <td>1</td>\n",
       "    </tr>\n",
       "    <tr>\n",
       "      <th>4</th>\n",
       "      <td>30.0</td>\n",
       "      <td>3.333</td>\n",
       "      <td>2.155</td>\n",
       "      <td>98</td>\n",
       "      <td>4</td>\n",
       "      <td>68</td>\n",
       "      <td>16.5</td>\n",
       "      <td>0</td>\n",
       "    </tr>\n",
       "  </tbody>\n",
       "</table>\n",
       "</div>"
      ],
      "text/plain": [
       "    MPG    GPM     WT  DIS  NC   HP   ACC  ET\n",
       "0  16.9  5.917  4.360  350   8  155  14.9   1\n",
       "1  15.5  6.452  4.054  351   8  142  14.3   1\n",
       "2  19.2  5.208  3.605  267   8  125  15.0   1\n",
       "3  18.5  5.405  3.940  360   8  150  13.0   1\n",
       "4  30.0  3.333  2.155   98   4   68  16.5   0"
      ]
     },
     "execution_count": 30,
     "metadata": {},
     "output_type": "execute_result"
    }
   ],
   "source": [
    "fuel = pd.read_csv('data/FuelEfficiency.csv') # data read\n",
    "fuel.head()"
   ]
  },
  {
   "cell_type": "code",
   "execution_count": 31,
   "metadata": {
    "collapsed": true,
    "deletable": true,
    "editable": true
   },
   "outputs": [],
   "source": [
    "fuel_z = fuel.apply(zscore)"
   ]
  },
  {
   "cell_type": "code",
   "execution_count": 32,
   "metadata": {
    "collapsed": false,
    "deletable": true,
    "editable": true
   },
   "outputs": [
    {
     "data": {
      "text/plain": [
       "{'algorithm': 'auto',\n",
       " 'copy_x': True,\n",
       " 'init': 'k-means++',\n",
       " 'max_iter': 300,\n",
       " 'n_clusters': 5,\n",
       " 'n_init': 10,\n",
       " 'n_jobs': 1,\n",
       " 'precompute_distances': 'auto',\n",
       " 'random_state': None,\n",
       " 'tol': 0.0001,\n",
       " 'verbose': 0}"
      ]
     },
     "execution_count": 32,
     "metadata": {},
     "output_type": "execute_result"
    }
   ],
   "source": [
    "fuel_clusters = KMeans(n_clusters=5).fit(fuel_z)\n",
    "fuel_clusters.get_params()"
   ]
  },
  {
   "cell_type": "code",
   "execution_count": 33,
   "metadata": {
    "collapsed": false,
    "deletable": true,
    "editable": true
   },
   "outputs": [
    {
     "data": {
      "text/html": [
       "<div>\n",
       "<table border=\"1\" class=\"dataframe\">\n",
       "  <thead>\n",
       "    <tr style=\"text-align: right;\">\n",
       "      <th></th>\n",
       "      <th>MPG</th>\n",
       "      <th>GPM</th>\n",
       "      <th>WT</th>\n",
       "      <th>DIS</th>\n",
       "      <th>NC</th>\n",
       "      <th>HP</th>\n",
       "      <th>ACC</th>\n",
       "      <th>ET</th>\n",
       "      <th>clurster</th>\n",
       "    </tr>\n",
       "  </thead>\n",
       "  <tbody>\n",
       "    <tr>\n",
       "      <th>0</th>\n",
       "      <td>-1.200573</td>\n",
       "      <td>1.372312</td>\n",
       "      <td>2.117935</td>\n",
       "      <td>1.943259</td>\n",
       "      <td>1.625213</td>\n",
       "      <td>2.014116</td>\n",
       "      <td>0.026968</td>\n",
       "      <td>1.545947</td>\n",
       "      <td>0</td>\n",
       "    </tr>\n",
       "    <tr>\n",
       "      <th>1</th>\n",
       "      <td>-1.414401</td>\n",
       "      <td>1.835114</td>\n",
       "      <td>1.685040</td>\n",
       "      <td>1.954510</td>\n",
       "      <td>1.625213</td>\n",
       "      <td>1.522528</td>\n",
       "      <td>-0.357328</td>\n",
       "      <td>1.545947</td>\n",
       "      <td>0</td>\n",
       "    </tr>\n",
       "    <tr>\n",
       "      <th>2</th>\n",
       "      <td>-0.849284</td>\n",
       "      <td>0.758991</td>\n",
       "      <td>1.049846</td>\n",
       "      <td>1.009381</td>\n",
       "      <td>1.625213</td>\n",
       "      <td>0.879683</td>\n",
       "      <td>0.091018</td>\n",
       "      <td>1.545947</td>\n",
       "      <td>0</td>\n",
       "    </tr>\n",
       "    <tr>\n",
       "      <th>3</th>\n",
       "      <td>-0.956198</td>\n",
       "      <td>0.929406</td>\n",
       "      <td>1.523766</td>\n",
       "      <td>2.055774</td>\n",
       "      <td>1.625213</td>\n",
       "      <td>1.825044</td>\n",
       "      <td>-1.189971</td>\n",
       "      <td>1.545947</td>\n",
       "      <td>0</td>\n",
       "    </tr>\n",
       "    <tr>\n",
       "      <th>4</th>\n",
       "      <td>0.800248</td>\n",
       "      <td>-0.862979</td>\n",
       "      <td>-1.001449</td>\n",
       "      <td>-0.892128</td>\n",
       "      <td>-0.870064</td>\n",
       "      <td>-1.275740</td>\n",
       "      <td>1.051759</td>\n",
       "      <td>-0.629830</td>\n",
       "      <td>4</td>\n",
       "    </tr>\n",
       "    <tr>\n",
       "      <th>5</th>\n",
       "      <td>0.418412</td>\n",
       "      <td>-0.600869</td>\n",
       "      <td>-0.428501</td>\n",
       "      <td>-0.487073</td>\n",
       "      <td>-0.870064</td>\n",
       "      <td>-0.254750</td>\n",
       "      <td>-0.421378</td>\n",
       "      <td>-0.629830</td>\n",
       "      <td>1</td>\n",
       "    </tr>\n",
       "    <tr>\n",
       "      <th>6</th>\n",
       "      <td>0.372592</td>\n",
       "      <td>-0.566267</td>\n",
       "      <td>-0.796320</td>\n",
       "      <td>-0.655846</td>\n",
       "      <td>-0.870064</td>\n",
       "      <td>-0.179121</td>\n",
       "      <td>-0.101131</td>\n",
       "      <td>-0.629830</td>\n",
       "      <td>1</td>\n",
       "    </tr>\n",
       "    <tr>\n",
       "      <th>7</th>\n",
       "      <td>0.937709</td>\n",
       "      <td>-0.946889</td>\n",
       "      <td>-0.895348</td>\n",
       "      <td>-0.813368</td>\n",
       "      <td>-0.870064</td>\n",
       "      <td>-1.011039</td>\n",
       "      <td>-0.229230</td>\n",
       "      <td>-0.629830</td>\n",
       "      <td>4</td>\n",
       "    </tr>\n",
       "    <tr>\n",
       "      <th>8</th>\n",
       "      <td>-0.681276</td>\n",
       "      <td>0.515047</td>\n",
       "      <td>-0.046536</td>\n",
       "      <td>-0.520828</td>\n",
       "      <td>-0.246244</td>\n",
       "      <td>0.047766</td>\n",
       "      <td>0.667463</td>\n",
       "      <td>-0.629830</td>\n",
       "      <td>2</td>\n",
       "    </tr>\n",
       "    <tr>\n",
       "      <th>9</th>\n",
       "      <td>-1.185299</td>\n",
       "      <td>1.342035</td>\n",
       "      <td>0.392017</td>\n",
       "      <td>-0.160779</td>\n",
       "      <td>0.377575</td>\n",
       "      <td>0.879683</td>\n",
       "      <td>-0.805675</td>\n",
       "      <td>-0.629830</td>\n",
       "      <td>2</td>\n",
       "    </tr>\n",
       "    <tr>\n",
       "      <th>10</th>\n",
       "      <td>-0.482721</td>\n",
       "      <td>0.258992</td>\n",
       "      <td>-0.096050</td>\n",
       "      <td>-0.633343</td>\n",
       "      <td>-0.870064</td>\n",
       "      <td>0.501539</td>\n",
       "      <td>0.539364</td>\n",
       "      <td>-0.629830</td>\n",
       "      <td>1</td>\n",
       "    </tr>\n",
       "    <tr>\n",
       "      <th>11</th>\n",
       "      <td>-1.307487</td>\n",
       "      <td>1.593765</td>\n",
       "      <td>0.773982</td>\n",
       "      <td>-0.160779</td>\n",
       "      <td>0.377575</td>\n",
       "      <td>1.182199</td>\n",
       "      <td>0.603413</td>\n",
       "      <td>-0.629830</td>\n",
       "      <td>2</td>\n",
       "    </tr>\n",
       "    <tr>\n",
       "      <th>12</th>\n",
       "      <td>-0.635455</td>\n",
       "      <td>0.452763</td>\n",
       "      <td>0.731542</td>\n",
       "      <td>0.604326</td>\n",
       "      <td>0.377575</td>\n",
       "      <td>0.123394</td>\n",
       "      <td>0.603413</td>\n",
       "      <td>-0.629830</td>\n",
       "      <td>2</td>\n",
       "    </tr>\n",
       "    <tr>\n",
       "      <th>13</th>\n",
       "      <td>-0.604909</td>\n",
       "      <td>0.412971</td>\n",
       "      <td>0.292989</td>\n",
       "      <td>0.255528</td>\n",
       "      <td>0.377575</td>\n",
       "      <td>-0.632894</td>\n",
       "      <td>1.179858</td>\n",
       "      <td>-0.629830</td>\n",
       "      <td>2</td>\n",
       "    </tr>\n",
       "    <tr>\n",
       "      <th>14</th>\n",
       "      <td>-0.940924</td>\n",
       "      <td>0.904320</td>\n",
       "      <td>1.071067</td>\n",
       "      <td>0.536817</td>\n",
       "      <td>0.377575</td>\n",
       "      <td>0.312467</td>\n",
       "      <td>2.460847</td>\n",
       "      <td>-0.629830</td>\n",
       "      <td>2</td>\n",
       "    </tr>\n",
       "    <tr>\n",
       "      <th>15</th>\n",
       "      <td>-1.017291</td>\n",
       "      <td>1.033212</td>\n",
       "      <td>0.773982</td>\n",
       "      <td>0.908117</td>\n",
       "      <td>0.377575</td>\n",
       "      <td>0.690611</td>\n",
       "      <td>0.155067</td>\n",
       "      <td>-0.629830</td>\n",
       "      <td>2</td>\n",
       "    </tr>\n",
       "    <tr>\n",
       "      <th>16</th>\n",
       "      <td>-1.185299</td>\n",
       "      <td>1.342035</td>\n",
       "      <td>1.382298</td>\n",
       "      <td>1.436940</td>\n",
       "      <td>1.625213</td>\n",
       "      <td>1.068755</td>\n",
       "      <td>0.347215</td>\n",
       "      <td>1.545947</td>\n",
       "      <td>0</td>\n",
       "    </tr>\n",
       "    <tr>\n",
       "      <th>17</th>\n",
       "      <td>-1.093659</td>\n",
       "      <td>1.169025</td>\n",
       "      <td>1.219609</td>\n",
       "      <td>1.403185</td>\n",
       "      <td>1.625213</td>\n",
       "      <td>1.030941</td>\n",
       "      <td>-0.933773</td>\n",
       "      <td>1.545947</td>\n",
       "      <td>0</td>\n",
       "    </tr>\n",
       "    <tr>\n",
       "      <th>18</th>\n",
       "      <td>-1.261666</td>\n",
       "      <td>1.496879</td>\n",
       "      <td>1.544987</td>\n",
       "      <td>1.954510</td>\n",
       "      <td>1.625213</td>\n",
       "      <td>1.371271</td>\n",
       "      <td>-1.061872</td>\n",
       "      <td>1.545947</td>\n",
       "      <td>0</td>\n",
       "    </tr>\n",
       "    <tr>\n",
       "      <th>19</th>\n",
       "      <td>-1.002018</td>\n",
       "      <td>1.007261</td>\n",
       "      <td>1.368151</td>\n",
       "      <td>1.583210</td>\n",
       "      <td>1.625213</td>\n",
       "      <td>1.257827</td>\n",
       "      <td>0.219117</td>\n",
       "      <td>1.545947</td>\n",
       "      <td>0</td>\n",
       "    </tr>\n",
       "    <tr>\n",
       "      <th>20</th>\n",
       "      <td>0.265677</td>\n",
       "      <td>-0.481492</td>\n",
       "      <td>-0.393134</td>\n",
       "      <td>-0.419564</td>\n",
       "      <td>-0.870064</td>\n",
       "      <td>-0.519451</td>\n",
       "      <td>-0.293279</td>\n",
       "      <td>-0.629830</td>\n",
       "      <td>1</td>\n",
       "    </tr>\n",
       "    <tr>\n",
       "      <th>21</th>\n",
       "      <td>-0.436901</td>\n",
       "      <td>0.203628</td>\n",
       "      <td>0.066639</td>\n",
       "      <td>-0.070766</td>\n",
       "      <td>0.377575</td>\n",
       "      <td>0.274652</td>\n",
       "      <td>1.115809</td>\n",
       "      <td>1.545947</td>\n",
       "      <td>2</td>\n",
       "    </tr>\n",
       "    <tr>\n",
       "      <th>22</th>\n",
       "      <td>1.426459</td>\n",
       "      <td>-1.209000</td>\n",
       "      <td>-1.256093</td>\n",
       "      <td>-1.027147</td>\n",
       "      <td>-0.870064</td>\n",
       "      <td>-1.389183</td>\n",
       "      <td>0.219117</td>\n",
       "      <td>-0.629830</td>\n",
       "      <td>4</td>\n",
       "    </tr>\n",
       "    <tr>\n",
       "      <th>23</th>\n",
       "      <td>1.579193</td>\n",
       "      <td>-1.281664</td>\n",
       "      <td>-1.340974</td>\n",
       "      <td>-0.892128</td>\n",
       "      <td>-0.870064</td>\n",
       "      <td>-0.821966</td>\n",
       "      <td>-0.293279</td>\n",
       "      <td>-0.629830</td>\n",
       "      <td>4</td>\n",
       "    </tr>\n",
       "    <tr>\n",
       "      <th>24</th>\n",
       "      <td>0.403138</td>\n",
       "      <td>-0.588758</td>\n",
       "      <td>-0.272886</td>\n",
       "      <td>-0.633343</td>\n",
       "      <td>-0.870064</td>\n",
       "      <td>-0.821966</td>\n",
       "      <td>0.091018</td>\n",
       "      <td>-0.629830</td>\n",
       "      <td>1</td>\n",
       "    </tr>\n",
       "    <tr>\n",
       "      <th>25</th>\n",
       "      <td>1.029349</td>\n",
       "      <td>-0.999657</td>\n",
       "      <td>-1.234872</td>\n",
       "      <td>-0.993392</td>\n",
       "      <td>-0.870064</td>\n",
       "      <td>-1.162296</td>\n",
       "      <td>0.026968</td>\n",
       "      <td>-0.629830</td>\n",
       "      <td>4</td>\n",
       "    </tr>\n",
       "    <tr>\n",
       "      <th>26</th>\n",
       "      <td>0.723881</td>\n",
       "      <td>-0.813671</td>\n",
       "      <td>-1.029743</td>\n",
       "      <td>-0.892128</td>\n",
       "      <td>-0.870064</td>\n",
       "      <td>-1.275740</td>\n",
       "      <td>1.115809</td>\n",
       "      <td>-0.629830</td>\n",
       "      <td>4</td>\n",
       "    </tr>\n",
       "    <tr>\n",
       "      <th>27</th>\n",
       "      <td>0.555873</td>\n",
       "      <td>-0.700350</td>\n",
       "      <td>-0.272886</td>\n",
       "      <td>-0.295797</td>\n",
       "      <td>-0.870064</td>\n",
       "      <td>-0.443822</td>\n",
       "      <td>0.731512</td>\n",
       "      <td>-0.629830</td>\n",
       "      <td>1</td>\n",
       "    </tr>\n",
       "    <tr>\n",
       "      <th>28</th>\n",
       "      <td>0.616967</td>\n",
       "      <td>-0.742737</td>\n",
       "      <td>-0.378987</td>\n",
       "      <td>-0.048263</td>\n",
       "      <td>0.377575</td>\n",
       "      <td>0.501539</td>\n",
       "      <td>-2.278812</td>\n",
       "      <td>1.545947</td>\n",
       "      <td>3</td>\n",
       "    </tr>\n",
       "    <tr>\n",
       "      <th>29</th>\n",
       "      <td>0.311498</td>\n",
       "      <td>-0.518689</td>\n",
       "      <td>-0.230445</td>\n",
       "      <td>-0.048263</td>\n",
       "      <td>0.377575</td>\n",
       "      <td>0.501539</td>\n",
       "      <td>-1.254021</td>\n",
       "      <td>1.545947</td>\n",
       "      <td>3</td>\n",
       "    </tr>\n",
       "    <tr>\n",
       "      <th>30</th>\n",
       "      <td>1.334818</td>\n",
       "      <td>-1.164017</td>\n",
       "      <td>-0.434160</td>\n",
       "      <td>-0.295797</td>\n",
       "      <td>-0.870064</td>\n",
       "      <td>-0.443822</td>\n",
       "      <td>-1.061872</td>\n",
       "      <td>-0.629830</td>\n",
       "      <td>4</td>\n",
       "    </tr>\n",
       "    <tr>\n",
       "      <th>31</th>\n",
       "      <td>1.441732</td>\n",
       "      <td>-1.216785</td>\n",
       "      <td>-0.937788</td>\n",
       "      <td>-0.813368</td>\n",
       "      <td>-0.870064</td>\n",
       "      <td>-1.200111</td>\n",
       "      <td>-1.061872</td>\n",
       "      <td>-0.629830</td>\n",
       "      <td>4</td>\n",
       "    </tr>\n",
       "    <tr>\n",
       "      <th>32</th>\n",
       "      <td>1.075170</td>\n",
       "      <td>-1.025609</td>\n",
       "      <td>-1.192432</td>\n",
       "      <td>-1.038398</td>\n",
       "      <td>-0.870064</td>\n",
       "      <td>-1.389183</td>\n",
       "      <td>2.781094</td>\n",
       "      <td>-0.629830</td>\n",
       "      <td>4</td>\n",
       "    </tr>\n",
       "    <tr>\n",
       "      <th>33</th>\n",
       "      <td>1.915209</td>\n",
       "      <td>-1.426992</td>\n",
       "      <td>-1.036816</td>\n",
       "      <td>-0.970889</td>\n",
       "      <td>-0.870064</td>\n",
       "      <td>-1.237925</td>\n",
       "      <td>-0.101131</td>\n",
       "      <td>-0.629830</td>\n",
       "      <td>4</td>\n",
       "    </tr>\n",
       "    <tr>\n",
       "      <th>34</th>\n",
       "      <td>0.876615</td>\n",
       "      <td>-0.909692</td>\n",
       "      <td>-0.951935</td>\n",
       "      <td>-0.903380</td>\n",
       "      <td>-0.870064</td>\n",
       "      <td>-0.897595</td>\n",
       "      <td>-0.485427</td>\n",
       "      <td>-0.629830</td>\n",
       "      <td>4</td>\n",
       "    </tr>\n",
       "    <tr>\n",
       "      <th>35</th>\n",
       "      <td>-0.421627</td>\n",
       "      <td>0.185462</td>\n",
       "      <td>-0.067756</td>\n",
       "      <td>-0.352055</td>\n",
       "      <td>0.377575</td>\n",
       "      <td>-0.179121</td>\n",
       "      <td>-0.229230</td>\n",
       "      <td>-0.629830</td>\n",
       "      <td>1</td>\n",
       "    </tr>\n",
       "    <tr>\n",
       "      <th>36</th>\n",
       "      <td>-0.497995</td>\n",
       "      <td>0.277158</td>\n",
       "      <td>-0.371914</td>\n",
       "      <td>-0.633343</td>\n",
       "      <td>-0.870064</td>\n",
       "      <td>0.312467</td>\n",
       "      <td>-1.318070</td>\n",
       "      <td>-0.629830</td>\n",
       "      <td>1</td>\n",
       "    </tr>\n",
       "    <tr>\n",
       "      <th>37</th>\n",
       "      <td>1.090443</td>\n",
       "      <td>-1.034259</td>\n",
       "      <td>-1.326827</td>\n",
       "      <td>-0.993392</td>\n",
       "      <td>-0.870064</td>\n",
       "      <td>-1.162296</td>\n",
       "      <td>-0.549477</td>\n",
       "      <td>-0.629830</td>\n",
       "      <td>4</td>\n",
       "    </tr>\n",
       "  </tbody>\n",
       "</table>\n",
       "</div>"
      ],
      "text/plain": [
       "         MPG       GPM        WT       DIS        NC        HP       ACC  \\\n",
       "0  -1.200573  1.372312  2.117935  1.943259  1.625213  2.014116  0.026968   \n",
       "1  -1.414401  1.835114  1.685040  1.954510  1.625213  1.522528 -0.357328   \n",
       "2  -0.849284  0.758991  1.049846  1.009381  1.625213  0.879683  0.091018   \n",
       "3  -0.956198  0.929406  1.523766  2.055774  1.625213  1.825044 -1.189971   \n",
       "4   0.800248 -0.862979 -1.001449 -0.892128 -0.870064 -1.275740  1.051759   \n",
       "5   0.418412 -0.600869 -0.428501 -0.487073 -0.870064 -0.254750 -0.421378   \n",
       "6   0.372592 -0.566267 -0.796320 -0.655846 -0.870064 -0.179121 -0.101131   \n",
       "7   0.937709 -0.946889 -0.895348 -0.813368 -0.870064 -1.011039 -0.229230   \n",
       "8  -0.681276  0.515047 -0.046536 -0.520828 -0.246244  0.047766  0.667463   \n",
       "9  -1.185299  1.342035  0.392017 -0.160779  0.377575  0.879683 -0.805675   \n",
       "10 -0.482721  0.258992 -0.096050 -0.633343 -0.870064  0.501539  0.539364   \n",
       "11 -1.307487  1.593765  0.773982 -0.160779  0.377575  1.182199  0.603413   \n",
       "12 -0.635455  0.452763  0.731542  0.604326  0.377575  0.123394  0.603413   \n",
       "13 -0.604909  0.412971  0.292989  0.255528  0.377575 -0.632894  1.179858   \n",
       "14 -0.940924  0.904320  1.071067  0.536817  0.377575  0.312467  2.460847   \n",
       "15 -1.017291  1.033212  0.773982  0.908117  0.377575  0.690611  0.155067   \n",
       "16 -1.185299  1.342035  1.382298  1.436940  1.625213  1.068755  0.347215   \n",
       "17 -1.093659  1.169025  1.219609  1.403185  1.625213  1.030941 -0.933773   \n",
       "18 -1.261666  1.496879  1.544987  1.954510  1.625213  1.371271 -1.061872   \n",
       "19 -1.002018  1.007261  1.368151  1.583210  1.625213  1.257827  0.219117   \n",
       "20  0.265677 -0.481492 -0.393134 -0.419564 -0.870064 -0.519451 -0.293279   \n",
       "21 -0.436901  0.203628  0.066639 -0.070766  0.377575  0.274652  1.115809   \n",
       "22  1.426459 -1.209000 -1.256093 -1.027147 -0.870064 -1.389183  0.219117   \n",
       "23  1.579193 -1.281664 -1.340974 -0.892128 -0.870064 -0.821966 -0.293279   \n",
       "24  0.403138 -0.588758 -0.272886 -0.633343 -0.870064 -0.821966  0.091018   \n",
       "25  1.029349 -0.999657 -1.234872 -0.993392 -0.870064 -1.162296  0.026968   \n",
       "26  0.723881 -0.813671 -1.029743 -0.892128 -0.870064 -1.275740  1.115809   \n",
       "27  0.555873 -0.700350 -0.272886 -0.295797 -0.870064 -0.443822  0.731512   \n",
       "28  0.616967 -0.742737 -0.378987 -0.048263  0.377575  0.501539 -2.278812   \n",
       "29  0.311498 -0.518689 -0.230445 -0.048263  0.377575  0.501539 -1.254021   \n",
       "30  1.334818 -1.164017 -0.434160 -0.295797 -0.870064 -0.443822 -1.061872   \n",
       "31  1.441732 -1.216785 -0.937788 -0.813368 -0.870064 -1.200111 -1.061872   \n",
       "32  1.075170 -1.025609 -1.192432 -1.038398 -0.870064 -1.389183  2.781094   \n",
       "33  1.915209 -1.426992 -1.036816 -0.970889 -0.870064 -1.237925 -0.101131   \n",
       "34  0.876615 -0.909692 -0.951935 -0.903380 -0.870064 -0.897595 -0.485427   \n",
       "35 -0.421627  0.185462 -0.067756 -0.352055  0.377575 -0.179121 -0.229230   \n",
       "36 -0.497995  0.277158 -0.371914 -0.633343 -0.870064  0.312467 -1.318070   \n",
       "37  1.090443 -1.034259 -1.326827 -0.993392 -0.870064 -1.162296 -0.549477   \n",
       "\n",
       "          ET  clurster  \n",
       "0   1.545947         0  \n",
       "1   1.545947         0  \n",
       "2   1.545947         0  \n",
       "3   1.545947         0  \n",
       "4  -0.629830         4  \n",
       "5  -0.629830         1  \n",
       "6  -0.629830         1  \n",
       "7  -0.629830         4  \n",
       "8  -0.629830         2  \n",
       "9  -0.629830         2  \n",
       "10 -0.629830         1  \n",
       "11 -0.629830         2  \n",
       "12 -0.629830         2  \n",
       "13 -0.629830         2  \n",
       "14 -0.629830         2  \n",
       "15 -0.629830         2  \n",
       "16  1.545947         0  \n",
       "17  1.545947         0  \n",
       "18  1.545947         0  \n",
       "19  1.545947         0  \n",
       "20 -0.629830         1  \n",
       "21  1.545947         2  \n",
       "22 -0.629830         4  \n",
       "23 -0.629830         4  \n",
       "24 -0.629830         1  \n",
       "25 -0.629830         4  \n",
       "26 -0.629830         4  \n",
       "27 -0.629830         1  \n",
       "28  1.545947         3  \n",
       "29  1.545947         3  \n",
       "30 -0.629830         4  \n",
       "31 -0.629830         4  \n",
       "32 -0.629830         4  \n",
       "33 -0.629830         4  \n",
       "34 -0.629830         4  \n",
       "35 -0.629830         1  \n",
       "36 -0.629830         1  \n",
       "37 -0.629830         4  "
      ]
     },
     "execution_count": 33,
     "metadata": {},
     "output_type": "execute_result"
    }
   ],
   "source": [
    "#데이터에 clurster colum 추가\n",
    "fuel_z['clurster'] = fuel_clusters.labels_[:]\n",
    "fuel_z"
   ]
  },
  {
   "cell_type": "markdown",
   "metadata": {},
   "source": [
    "### 실습예제 3\n",
    "상단의 클러스터링 예제를 실린더 수, 마력 수 의 관계로 그래프를 출력하시오"
   ]
  },
  {
   "cell_type": "code",
   "execution_count": 34,
   "metadata": {
    "collapsed": false
   },
   "outputs": [
    {
     "data": {
      "text/plain": [
       "<matplotlib.figure.Figure at 0x2c80bdde710>"
      ]
     },
     "metadata": {},
     "output_type": "display_data"
    },
    {
     "data": {
      "image/png": "[encoded data removed]",
      "text/plain": [
       "<matplotlib.figure.Figure at 0x2c80bdde128>"
      ]
     },
     "metadata": {},
     "output_type": "display_data"
    }
   ],
   "source": [
    "plt.clf()\n",
    "plt.figure(figsize=(15, 10))\n",
    "plt.xlabel('NC')\n",
    "plt.ylabel('HP')\n",
    "plt.scatter(fuel['NC'], fuel['HP'], c=fuel_z['clurster']) # 클러스터링 된 자료를 무게와 배기량의 관계로 표현\n",
    "plt.show()"
   ]
  },
  {
   "cell_type": "code",
   "execution_count": null,
   "metadata": {
    "collapsed": true
   },
   "outputs": [],
   "source": []
  }
 ],
 "metadata": {
  "kernelspec": {
   "display_name": "Python 3",
   "language": "python",
   "name": "python3"
  },
  "language_info": {
   "codemirror_mode": {
    "name": "ipython",
    "version": 3
   },
   "file_extension": ".py",
   "mimetype": "text/x-python",
   "name": "python",
   "nbconvert_exporter": "python",
   "pygments_lexer": "ipython3",
   "version": "3.6.0"
  }
 },
 "nbformat": 4,
 "nbformat_minor": 2
}
