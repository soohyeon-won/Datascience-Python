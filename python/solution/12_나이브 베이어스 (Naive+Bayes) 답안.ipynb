{
 "cells": [
  {
   "cell_type": "markdown",
   "metadata": {},
   "source": [
    "# 나이브 베이어스\n",
    "해당 메일이 스팸메일인지 아닌지 예측하는 문제이다.\n",
    "\n",
    "data에는 스팸의 여부와 메일 내용이 저장되어있다."
   ]
  },
  {
   "cell_type": "code",
   "execution_count": 1,
   "metadata": {
    "collapsed": true,
    "deletable": true,
    "editable": true
   },
   "outputs": [],
   "source": [
    "import pandas as pd\n",
    "from matplotlib import pyplot as plt\n",
    "import numpy as np"
   ]
  },
  {
   "cell_type": "code",
   "execution_count": 2,
   "metadata": {
    "collapsed": false,
    "deletable": true,
    "editable": true
   },
   "outputs": [],
   "source": [
    "import codecs\n",
    "\n",
    "# utf-8 디코딩 문제로 인해 해당 코드로 파일을 읽어왔다.\n",
    "with codecs.open('data/sms_spam.csv', \"r\",encoding='utf-8', errors='ignore') as fdata:\n",
    "    sms_raw = pd.read_csv(fdata)"
   ]
  },
  {
   "cell_type": "markdown",
   "metadata": {
    "collapsed": true
   },
   "source": [
    "### 실습 예제\n",
    "상단의 예제에서 주어진 email data를 train과 test데이터의 비율은 8:2로 설정한 뒤, 가우시안 나이브 베이어스 학습 모델을 이용하여 예측 결과를 출력하시오."
   ]
  },
  {
   "cell_type": "code",
   "execution_count": 3,
   "metadata": {
    "collapsed": false
   },
   "outputs": [
    {
     "name": "stdout",
     "output_type": "stream",
     "text": [
      "             precision    recall  f1-score   support\n",
      "\n",
      "        ham       0.98      0.84      0.91       955\n",
      "       spam       0.48      0.92      0.63       157\n",
      "\n",
      "avg / total       0.91      0.85      0.87      1112\n",
      "\n"
     ]
    }
   ],
   "source": [
    "sms_corpus = sms_raw['text'] #dataframe의 'text'의 정보를 따로 저장\n",
    "\n",
    "# text의 전처리\n",
    "from sklearn.feature_extraction.text import CountVectorizer\n",
    "\n",
    "vectorizer = CountVectorizer(min_df=5) # 5개 이하로 나온 단어 무시\n",
    "X = vectorizer.fit_transform(sms_corpus) # 문서-단어 행렬 작성 후 X에 저장\n",
    "# 이는 해당 단어의 총 출연 횟수를 text에 등장한 단어 순서에 맞게 저장한 CounterVector 이다.\n",
    "\n",
    "X = X.toarray() # 학습을 위해서는 X가 array나 ndarray의 형태로 존재해야 함\n",
    "y = sms_raw['type'] # 스팸 여부를 저장\n",
    "\n",
    "from sklearn.model_selection import train_test_split\n",
    "# 훈련데이터 75%, 테스트 데이터 25%를 지정\n",
    "X_train, X_test, y_train, y_test = train_test_split(X, y, test_size=0.2, random_state=33)\n",
    "\n",
    "from sklearn.naive_bayes import GaussianNB as nb\n",
    "cl = nb() # 가우시안 나이브 베이어스 모델 생성\n",
    "cl.fit(X_train, y_train) # 학습\n",
    "\n",
    "from sklearn import metrics\n",
    "y_pred = cl.predict(X_test) # 학습된 모델을 이용하여 예측\n",
    "print(metrics.classification_report(y_test, y_pred)) # 예측 결과 출력"
   ]
  }
 ],
 "metadata": {
  "kernelspec": {
   "display_name": "Python 3",
   "language": "python",
   "name": "python3"
  },
  "language_info": {
   "codemirror_mode": {
    "name": "ipython",
    "version": 3
   },
   "file_extension": ".py",
   "mimetype": "text/x-python",
   "name": "python",
   "nbconvert_exporter": "python",
   "pygments_lexer": "ipython3",
   "version": "3.6.0"
  }
 },
 "nbformat": 4,
 "nbformat_minor": 2
}
