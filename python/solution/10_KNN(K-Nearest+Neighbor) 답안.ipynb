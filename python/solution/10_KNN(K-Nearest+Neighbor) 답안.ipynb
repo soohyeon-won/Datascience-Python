{
 "cells": [
  {
   "cell_type": "markdown",
   "metadata": {},
   "source": [
    "# K-Nearest Neighbor(k-최근접이웃)\n",
    "사용데이터 - 대형 매장에 방문하는 중국인과 일본인의 정보\n",
    "(건물 입구부터 매장 상담원이 있는 곳까지 걸어 오는데 소요된 시간, 진열된 상품을 둘러본 횟수, 성별, 지불금액, 출신 국가)\n",
    "\n",
    "위의 정보를 학습하여(성별 제외), 출신 국가가 블라인드된 정보만 보고 출신 국가를 예측하려 한다."
   ]
  },
  {
   "cell_type": "code",
   "execution_count": 1,
   "metadata": {
    "collapsed": true,
    "deletable": true,
    "editable": true
   },
   "outputs": [],
   "source": [
    "# 모듈 선언\n",
    "import pandas as pd\n",
    "from matplotlib import pyplot as plt"
   ]
  },
  {
   "cell_type": "code",
   "execution_count": 2,
   "metadata": {
    "collapsed": false,
    "deletable": true,
    "editable": true
   },
   "outputs": [],
   "source": [
    "# data read\n",
    "mydata = pd.read_csv('data/mydata.csv') \n",
    "del mydata['sex'] # load된 dataframe에서 성별을 제거"
   ]
  },
  {
   "cell_type": "code",
   "execution_count": 3,
   "metadata": {
    "collapsed": false,
    "deletable": true,
    "editable": true
   },
   "outputs": [
    {
     "name": "stdout",
     "output_type": "stream",
     "text": [
      "<class 'pandas.core.frame.DataFrame'>\n",
      "RangeIndex: 500 entries, 0 to 499\n",
      "Data columns (total 5 columns):\n",
      "id         500 non-null int64\n",
      "walk       500 non-null int64\n",
      "view       500 non-null int64\n",
      "payment    500 non-null int64\n",
      "country    500 non-null object\n",
      "dtypes: int64(4), object(1)\n",
      "memory usage: 19.6+ KB\n"
     ]
    }
   ],
   "source": [
    "mydata.info()"
   ]
  },
  {
   "cell_type": "code",
   "execution_count": 4,
   "metadata": {
    "collapsed": false,
    "deletable": true,
    "editable": true
   },
   "outputs": [
    {
     "data": {
      "text/plain": [
       "C    300\n",
       "J    200\n",
       "Name: country, dtype: int64"
      ]
     },
     "execution_count": 4,
     "metadata": {},
     "output_type": "execute_result"
    }
   ],
   "source": [
    "mydata['country'].value_counts() # 국가별 매장 방문 인원"
   ]
  },
  {
   "cell_type": "code",
   "execution_count": 5,
   "metadata": {
    "collapsed": true,
    "deletable": true,
    "editable": true
   },
   "outputs": [],
   "source": [
    "# 주어진 수치값의 최대치와 최소치의 차이값으로 정규화\n",
    "nomalize = lambda x : (x - min(x)) / (max(x) - min(x))"
   ]
  },
  {
   "cell_type": "code",
   "execution_count": 6,
   "metadata": {
    "collapsed": false,
    "deletable": true,
    "editable": true
   },
   "outputs": [],
   "source": [
    "# 더미 코딩\n",
    "mydata['country'] = (mydata['country']=='C') # china일 경우 true, japan일 경우 false"
   ]
  },
  {
   "cell_type": "code",
   "execution_count": 7,
   "metadata": {
    "collapsed": false,
    "deletable": true,
    "editable": true
   },
   "outputs": [
    {
     "data": {
      "text/html": [
       "<div>\n",
       "<table border=\"1\" class=\"dataframe\">\n",
       "  <thead>\n",
       "    <tr style=\"text-align: right;\">\n",
       "      <th></th>\n",
       "      <th>walk</th>\n",
       "      <th>view</th>\n",
       "      <th>payment</th>\n",
       "    </tr>\n",
       "  </thead>\n",
       "  <tbody>\n",
       "    <tr>\n",
       "      <th>0</th>\n",
       "      <td>17</td>\n",
       "      <td>5</td>\n",
       "      <td>176</td>\n",
       "    </tr>\n",
       "    <tr>\n",
       "      <th>1</th>\n",
       "      <td>12</td>\n",
       "      <td>5</td>\n",
       "      <td>194</td>\n",
       "    </tr>\n",
       "    <tr>\n",
       "      <th>2</th>\n",
       "      <td>32</td>\n",
       "      <td>12</td>\n",
       "      <td>384</td>\n",
       "    </tr>\n",
       "    <tr>\n",
       "      <th>3</th>\n",
       "      <td>25</td>\n",
       "      <td>9</td>\n",
       "      <td>329</td>\n",
       "    </tr>\n",
       "    <tr>\n",
       "      <th>4</th>\n",
       "      <td>23</td>\n",
       "      <td>8</td>\n",
       "      <td>290</td>\n",
       "    </tr>\n",
       "    <tr>\n",
       "      <th>5</th>\n",
       "      <td>24</td>\n",
       "      <td>8</td>\n",
       "      <td>246</td>\n",
       "    </tr>\n",
       "    <tr>\n",
       "      <th>6</th>\n",
       "      <td>22</td>\n",
       "      <td>6</td>\n",
       "      <td>235</td>\n",
       "    </tr>\n",
       "    <tr>\n",
       "      <th>7</th>\n",
       "      <td>32</td>\n",
       "      <td>11</td>\n",
       "      <td>353</td>\n",
       "    </tr>\n",
       "    <tr>\n",
       "      <th>8</th>\n",
       "      <td>30</td>\n",
       "      <td>10</td>\n",
       "      <td>324</td>\n",
       "    </tr>\n",
       "    <tr>\n",
       "      <th>9</th>\n",
       "      <td>13</td>\n",
       "      <td>2</td>\n",
       "      <td>93</td>\n",
       "    </tr>\n",
       "  </tbody>\n",
       "</table>\n",
       "</div>"
      ],
      "text/plain": [
       "   walk  view  payment\n",
       "0    17     5      176\n",
       "1    12     5      194\n",
       "2    32    12      384\n",
       "3    25     9      329\n",
       "4    23     8      290\n",
       "5    24     8      246\n",
       "6    22     6      235\n",
       "7    32    11      353\n",
       "8    30    10      324\n",
       "9    13     2       93"
      ]
     },
     "execution_count": 7,
     "metadata": {},
     "output_type": "execute_result"
    }
   ],
   "source": [
    "mydata.ix[:, 1:4].head(10) # dataframe의 walk, view, payment만 추출하여 탐색"
   ]
  },
  {
   "cell_type": "code",
   "execution_count": 8,
   "metadata": {
    "collapsed": false,
    "deletable": true,
    "editable": true
   },
   "outputs": [
    {
     "data": {
      "text/html": [
       "<div>\n",
       "<table border=\"1\" class=\"dataframe\">\n",
       "  <thead>\n",
       "    <tr style=\"text-align: right;\">\n",
       "      <th></th>\n",
       "      <th>walk</th>\n",
       "      <th>view</th>\n",
       "      <th>payment</th>\n",
       "    </tr>\n",
       "  </thead>\n",
       "  <tbody>\n",
       "    <tr>\n",
       "      <th>0</th>\n",
       "      <td>0.240741</td>\n",
       "      <td>0.157895</td>\n",
       "      <td>0.268025</td>\n",
       "    </tr>\n",
       "    <tr>\n",
       "      <th>1</th>\n",
       "      <td>0.148148</td>\n",
       "      <td>0.157895</td>\n",
       "      <td>0.296238</td>\n",
       "    </tr>\n",
       "    <tr>\n",
       "      <th>2</th>\n",
       "      <td>0.518519</td>\n",
       "      <td>0.526316</td>\n",
       "      <td>0.594044</td>\n",
       "    </tr>\n",
       "    <tr>\n",
       "      <th>3</th>\n",
       "      <td>0.388889</td>\n",
       "      <td>0.368421</td>\n",
       "      <td>0.507837</td>\n",
       "    </tr>\n",
       "    <tr>\n",
       "      <th>4</th>\n",
       "      <td>0.351852</td>\n",
       "      <td>0.315789</td>\n",
       "      <td>0.446708</td>\n",
       "    </tr>\n",
       "    <tr>\n",
       "      <th>5</th>\n",
       "      <td>0.370370</td>\n",
       "      <td>0.315789</td>\n",
       "      <td>0.377743</td>\n",
       "    </tr>\n",
       "    <tr>\n",
       "      <th>6</th>\n",
       "      <td>0.333333</td>\n",
       "      <td>0.210526</td>\n",
       "      <td>0.360502</td>\n",
       "    </tr>\n",
       "    <tr>\n",
       "      <th>7</th>\n",
       "      <td>0.518519</td>\n",
       "      <td>0.473684</td>\n",
       "      <td>0.545455</td>\n",
       "    </tr>\n",
       "    <tr>\n",
       "      <th>8</th>\n",
       "      <td>0.481481</td>\n",
       "      <td>0.421053</td>\n",
       "      <td>0.500000</td>\n",
       "    </tr>\n",
       "    <tr>\n",
       "      <th>9</th>\n",
       "      <td>0.166667</td>\n",
       "      <td>0.000000</td>\n",
       "      <td>0.137931</td>\n",
       "    </tr>\n",
       "  </tbody>\n",
       "</table>\n",
       "</div>"
      ],
      "text/plain": [
       "       walk      view   payment\n",
       "0  0.240741  0.157895  0.268025\n",
       "1  0.148148  0.157895  0.296238\n",
       "2  0.518519  0.526316  0.594044\n",
       "3  0.388889  0.368421  0.507837\n",
       "4  0.351852  0.315789  0.446708\n",
       "5  0.370370  0.315789  0.377743\n",
       "6  0.333333  0.210526  0.360502\n",
       "7  0.518519  0.473684  0.545455\n",
       "8  0.481481  0.421053  0.500000\n",
       "9  0.166667  0.000000  0.137931"
      ]
     },
     "execution_count": 8,
     "metadata": {},
     "output_type": "execute_result"
    }
   ],
   "source": [
    "mydata_n = mydata.ix[:, 1:4].apply(nomalize) # dataframe의 walk, view, payment를 이용하여 정규화\n",
    "mydata_n.head(10)"
   ]
  },
  {
   "cell_type": "markdown",
   "metadata": {
    "collapsed": true,
    "deletable": true,
    "editable": true
   },
   "source": [
    "### 실습예제\n",
    "sklearn 모듈의 knn 함수를 이용하여 반지름을 30으로 설정하고, train data와 test data를 9:1로 정하여 예측해보시오."
   ]
  },
  {
   "cell_type": "code",
   "execution_count": 9,
   "metadata": {
    "collapsed": false
   },
   "outputs": [
    {
     "name": "stdout",
     "output_type": "stream",
     "text": [
      "             precision    recall  f1-score   support\n",
      "\n",
      "      False       0.95      0.83      0.89        24\n",
      "       True       0.86      0.96      0.91        26\n",
      "\n",
      "avg / total       0.91      0.90      0.90        50\n",
      "\n"
     ]
    }
   ],
   "source": [
    "feature_names = ['walk', 'view', 'payment'] # feature_name에 학습에 사용할 column name을 저장\n",
    "X = mydata_n[feature_names] # feature_name에 해당하는 column만 정규화된 mydata_n에서 추출하여 X(Large x)에 저장\n",
    "\n",
    "y = mydata['country'] # y(small y)에 mydata의 country를 저장\n",
    "\n",
    "# 훈련 데이터와 테스트 데이터 분리\n",
    "from sklearn.model_selection import train_test_split\n",
    "\n",
    "#X와 y의 training data와 test data의 비율을 9:1로 지정(0.9, 0.1)\n",
    "mydata_train, mydata_test, mydata_train_labels, mydata_test_labels = train_test_split(X, y,\n",
    "                                                                                      test_size=0.1, random_state=33)\n",
    "\n",
    "# KNN Algorism 실행\n",
    "from sklearn.neighbors import KNeighborsClassifier as knn # knn모듈을 import\n",
    "X = mydata_train # train (훈련 데이터중 column) => X\n",
    "y = mydata_train_labels # train labels (훈련 데이터중 출신 국가) => y\n",
    "mydata_test_pred = knn(n_neighbors=30) # neighbor의 수를 30으로 정함\n",
    "mydata_test_pred = mydata_test_pred.fit(X, y) # data를 학습\n",
    "\n",
    "# 분류 검증\n",
    "from sklearn import metrics\n",
    "y_pred = mydata_test_pred.predict(mydata_test) # test용으로 정해놓았던 data를 학습된 데이터를 이용해 출신 국가를 예측\n",
    "print(metrics.classification_report(mydata_test_labels, y_pred)) # test용으로 빼 놓았던 data(출신국가 정답)과 예측값을 비교"
   ]
  }
 ],
 "metadata": {
  "kernelspec": {
   "display_name": "Python 3",
   "language": "python",
   "name": "python3"
  },
  "language_info": {
   "codemirror_mode": {
    "name": "ipython",
    "version": 3
   },
   "file_extension": ".py",
   "mimetype": "text/x-python",
   "name": "python",
   "nbconvert_exporter": "python",
   "pygments_lexer": "ipython3",
   "version": "3.6.0"
  }
 },
 "nbformat": 4,
 "nbformat_minor": 2
}
