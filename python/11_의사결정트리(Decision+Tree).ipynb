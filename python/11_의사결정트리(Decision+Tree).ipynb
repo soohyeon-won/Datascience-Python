{
 "cells": [
  {
   "cell_type": "markdown",
   "metadata": {},
   "source": [
    "# 의사결정트리\n",
    "knn 예제와 동일한 예측을 의사결정트리 알고리즘으로 풀이 한다."
   ]
  },
  {
   "cell_type": "code",
   "execution_count": 9,
   "metadata": {
    "collapsed": true
   },
   "outputs": [],
   "source": [
    "import pandas as pd\n",
    "from sklearn import tree\n",
    "from matplotlib import pyplot as plt"
   ]
  },
  {
   "cell_type": "code",
   "execution_count": 10,
   "metadata": {},
   "outputs": [
    {
     "data": {
      "text/html": [
       "<div>\n",
       "<style>\n",
       "    .dataframe thead tr:only-child th {\n",
       "        text-align: right;\n",
       "    }\n",
       "\n",
       "    .dataframe thead th {\n",
       "        text-align: left;\n",
       "    }\n",
       "\n",
       "    .dataframe tbody tr th {\n",
       "        vertical-align: top;\n",
       "    }\n",
       "</style>\n",
       "<table border=\"1\" class=\"dataframe\">\n",
       "  <thead>\n",
       "    <tr style=\"text-align: right;\">\n",
       "      <th></th>\n",
       "      <th>id</th>\n",
       "      <th>walk</th>\n",
       "      <th>view</th>\n",
       "      <th>sex</th>\n",
       "      <th>payment</th>\n",
       "      <th>country</th>\n",
       "    </tr>\n",
       "  </thead>\n",
       "  <tbody>\n",
       "    <tr>\n",
       "      <th>0</th>\n",
       "      <td>1</td>\n",
       "      <td>17</td>\n",
       "      <td>5</td>\n",
       "      <td>M</td>\n",
       "      <td>176</td>\n",
       "      <td>C</td>\n",
       "    </tr>\n",
       "    <tr>\n",
       "      <th>1</th>\n",
       "      <td>2</td>\n",
       "      <td>12</td>\n",
       "      <td>5</td>\n",
       "      <td>M</td>\n",
       "      <td>194</td>\n",
       "      <td>C</td>\n",
       "    </tr>\n",
       "    <tr>\n",
       "      <th>2</th>\n",
       "      <td>3</td>\n",
       "      <td>32</td>\n",
       "      <td>12</td>\n",
       "      <td>F</td>\n",
       "      <td>384</td>\n",
       "      <td>C</td>\n",
       "    </tr>\n",
       "    <tr>\n",
       "      <th>3</th>\n",
       "      <td>4</td>\n",
       "      <td>25</td>\n",
       "      <td>9</td>\n",
       "      <td>F</td>\n",
       "      <td>329</td>\n",
       "      <td>C</td>\n",
       "    </tr>\n",
       "    <tr>\n",
       "      <th>4</th>\n",
       "      <td>5</td>\n",
       "      <td>23</td>\n",
       "      <td>8</td>\n",
       "      <td>F</td>\n",
       "      <td>290</td>\n",
       "      <td>C</td>\n",
       "    </tr>\n",
       "    <tr>\n",
       "      <th>5</th>\n",
       "      <td>6</td>\n",
       "      <td>24</td>\n",
       "      <td>8</td>\n",
       "      <td>M</td>\n",
       "      <td>246</td>\n",
       "      <td>C</td>\n",
       "    </tr>\n",
       "    <tr>\n",
       "      <th>6</th>\n",
       "      <td>7</td>\n",
       "      <td>22</td>\n",
       "      <td>6</td>\n",
       "      <td>F</td>\n",
       "      <td>235</td>\n",
       "      <td>C</td>\n",
       "    </tr>\n",
       "    <tr>\n",
       "      <th>7</th>\n",
       "      <td>8</td>\n",
       "      <td>32</td>\n",
       "      <td>11</td>\n",
       "      <td>F</td>\n",
       "      <td>353</td>\n",
       "      <td>C</td>\n",
       "    </tr>\n",
       "    <tr>\n",
       "      <th>8</th>\n",
       "      <td>9</td>\n",
       "      <td>30</td>\n",
       "      <td>10</td>\n",
       "      <td>F</td>\n",
       "      <td>324</td>\n",
       "      <td>C</td>\n",
       "    </tr>\n",
       "    <tr>\n",
       "      <th>9</th>\n",
       "      <td>10</td>\n",
       "      <td>13</td>\n",
       "      <td>2</td>\n",
       "      <td>M</td>\n",
       "      <td>93</td>\n",
       "      <td>C</td>\n",
       "    </tr>\n",
       "  </tbody>\n",
       "</table>\n",
       "</div>"
      ],
      "text/plain": [
       "   id  walk  view sex  payment country\n",
       "0   1    17     5   M      176       C\n",
       "1   2    12     5   M      194       C\n",
       "2   3    32    12   F      384       C\n",
       "3   4    25     9   F      329       C\n",
       "4   5    23     8   F      290       C\n",
       "5   6    24     8   M      246       C\n",
       "6   7    22     6   F      235       C\n",
       "7   8    32    11   F      353       C\n",
       "8   9    30    10   F      324       C\n",
       "9  10    13     2   M       93       C"
      ]
     },
     "execution_count": 10,
     "metadata": {},
     "output_type": "execute_result"
    }
   ],
   "source": [
    "data = pd.read_csv('data/mydata.csv')\n",
    "data.head(10)"
   ]
  },
  {
   "cell_type": "code",
   "execution_count": 11,
   "metadata": {},
   "outputs": [
    {
     "data": {
      "text/html": [
       "<div>\n",
       "<style>\n",
       "    .dataframe thead tr:only-child th {\n",
       "        text-align: right;\n",
       "    }\n",
       "\n",
       "    .dataframe thead th {\n",
       "        text-align: left;\n",
       "    }\n",
       "\n",
       "    .dataframe tbody tr th {\n",
       "        vertical-align: top;\n",
       "    }\n",
       "</style>\n",
       "<table border=\"1\" class=\"dataframe\">\n",
       "  <thead>\n",
       "    <tr style=\"text-align: right;\">\n",
       "      <th></th>\n",
       "      <th>id</th>\n",
       "      <th>walk</th>\n",
       "      <th>view</th>\n",
       "      <th>sex</th>\n",
       "      <th>payment</th>\n",
       "      <th>country</th>\n",
       "    </tr>\n",
       "  </thead>\n",
       "  <tbody>\n",
       "    <tr>\n",
       "      <th>0</th>\n",
       "      <td>1</td>\n",
       "      <td>17</td>\n",
       "      <td>5</td>\n",
       "      <td>M</td>\n",
       "      <td>176</td>\n",
       "      <td>True</td>\n",
       "    </tr>\n",
       "    <tr>\n",
       "      <th>1</th>\n",
       "      <td>2</td>\n",
       "      <td>12</td>\n",
       "      <td>5</td>\n",
       "      <td>M</td>\n",
       "      <td>194</td>\n",
       "      <td>True</td>\n",
       "    </tr>\n",
       "    <tr>\n",
       "      <th>2</th>\n",
       "      <td>3</td>\n",
       "      <td>32</td>\n",
       "      <td>12</td>\n",
       "      <td>F</td>\n",
       "      <td>384</td>\n",
       "      <td>True</td>\n",
       "    </tr>\n",
       "    <tr>\n",
       "      <th>3</th>\n",
       "      <td>4</td>\n",
       "      <td>25</td>\n",
       "      <td>9</td>\n",
       "      <td>F</td>\n",
       "      <td>329</td>\n",
       "      <td>True</td>\n",
       "    </tr>\n",
       "    <tr>\n",
       "      <th>4</th>\n",
       "      <td>5</td>\n",
       "      <td>23</td>\n",
       "      <td>8</td>\n",
       "      <td>F</td>\n",
       "      <td>290</td>\n",
       "      <td>True</td>\n",
       "    </tr>\n",
       "  </tbody>\n",
       "</table>\n",
       "</div>"
      ],
      "text/plain": [
       "   id  walk  view sex  payment  country\n",
       "0   1    17     5   M      176     True\n",
       "1   2    12     5   M      194     True\n",
       "2   3    32    12   F      384     True\n",
       "3   4    25     9   F      329     True\n",
       "4   5    23     8   F      290     True"
      ]
     },
     "execution_count": 11,
     "metadata": {},
     "output_type": "execute_result"
    }
   ],
   "source": [
    "# 더미 코딩\n",
    "data['country'] = (data['country']=='C')\n",
    "data.head(5)\n",
    "# 이곳 까지 KNN과 동일"
   ]
  },
  {
   "cell_type": "code",
   "execution_count": 12,
   "metadata": {},
   "outputs": [
    {
     "data": {
      "text/html": [
       "<div>\n",
       "<style>\n",
       "    .dataframe thead tr:only-child th {\n",
       "        text-align: right;\n",
       "    }\n",
       "\n",
       "    .dataframe thead th {\n",
       "        text-align: left;\n",
       "    }\n",
       "\n",
       "    .dataframe tbody tr th {\n",
       "        vertical-align: top;\n",
       "    }\n",
       "</style>\n",
       "<table border=\"1\" class=\"dataframe\">\n",
       "  <thead>\n",
       "    <tr style=\"text-align: right;\">\n",
       "      <th></th>\n",
       "      <th>walk</th>\n",
       "      <th>view</th>\n",
       "    </tr>\n",
       "  </thead>\n",
       "  <tbody>\n",
       "    <tr>\n",
       "      <th>0</th>\n",
       "      <td>17</td>\n",
       "      <td>5</td>\n",
       "    </tr>\n",
       "    <tr>\n",
       "      <th>1</th>\n",
       "      <td>12</td>\n",
       "      <td>5</td>\n",
       "    </tr>\n",
       "    <tr>\n",
       "      <th>2</th>\n",
       "      <td>32</td>\n",
       "      <td>12</td>\n",
       "    </tr>\n",
       "    <tr>\n",
       "      <th>3</th>\n",
       "      <td>25</td>\n",
       "      <td>9</td>\n",
       "    </tr>\n",
       "    <tr>\n",
       "      <th>4</th>\n",
       "      <td>23</td>\n",
       "      <td>8</td>\n",
       "    </tr>\n",
       "  </tbody>\n",
       "</table>\n",
       "</div>"
      ],
      "text/plain": [
       "   walk  view\n",
       "0    17     5\n",
       "1    12     5\n",
       "2    32    12\n",
       "3    25     9\n",
       "4    23     8"
      ]
     },
     "execution_count": 12,
     "metadata": {},
     "output_type": "execute_result"
    }
   ],
   "source": [
    "feature_names = ['walk', 'view'] # walk와 view 두개의 column name을 feature_name에 저장\n",
    "X = data[feature_names] # data 정제 후 X에 저장\n",
    "X.head(5) # 임의 출력"
   ]
  },
  {
   "cell_type": "code",
   "execution_count": 13,
   "metadata": {
    "collapsed": true
   },
   "outputs": [],
   "source": [
    "y = data['country'] # country 관련 data만 y에 저장"
   ]
  },
  {
   "cell_type": "code",
   "execution_count": 14,
   "metadata": {
    "collapsed": true
   },
   "outputs": [],
   "source": [
    "# 학습용 데이터와 테스트용 데이터 작성\n",
    "from sklearn.model_selection import train_test_split\n",
    "# training data와 test data의 비율을 3:1로 지정\n",
    "X_train, X_test, y_train, y_test = train_test_split(X, y, test_size=0.25, random_state=33)"
   ]
  },
  {
   "cell_type": "code",
   "execution_count": 15,
   "metadata": {},
   "outputs": [
    {
     "data": {
      "text/plain": [
       "DecisionTreeClassifier(class_weight=None, criterion='entropy', max_depth=2,\n",
       "            max_features=None, max_leaf_nodes=None,\n",
       "            min_impurity_split=1e-07, min_samples_leaf=3,\n",
       "            min_samples_split=2, min_weight_fraction_leaf=0.0,\n",
       "            presort=False, random_state=None, splitter='best')"
      ]
     },
     "execution_count": 15,
     "metadata": {},
     "output_type": "execute_result"
    }
   ],
   "source": [
    "clf = tree.DecisionTreeClassifier(criterion='entropy', max_depth=2, min_samples_leaf=3) # 의사결정트리 생성(트리depth2)\n",
    "clf = clf.fit(X_train, y_train) # 의사결정트리에 training data 학습\n",
    "clf"
   ]
  },
  {
   "cell_type": "code",
   "execution_count": 16,
   "metadata": {
    "collapsed": true
   },
   "outputs": [],
   "source": [
    "with open(\"./mytree.dot\", 'w') as  f:\n",
    "    dot_data=tree.export_graphviz(clf, out_file=f, feature_names=feature_names) # 작성된 의사결정 트리를 파일로 작성"
   ]
  },
  {
   "cell_type": "code",
   "execution_count": 17,
   "metadata": {
    "collapsed": true
   },
   "outputs": [],
   "source": [
    "# 작성된 파일을 그림파일로 만들기\n",
    "# 트리 출력은 마크다운 모드에서 ![Alt text](./mytree.png) 입력 후 실행\n",
    "\n",
    "# !dot -Tpng mytree.dot -o mytree.png\n",
    "# 상단의 명령어는 리눅스에서 동작하기 때문에 의사결정 트리의 png파일은 미리 제작하여 첨부"
   ]
  },
  {
   "cell_type": "code",
   "execution_count": 18,
   "metadata": {},
   "outputs": [
    {
     "name": "stdout",
     "output_type": "stream",
     "text": [
      "             precision    recall  f1-score   support\n",
      "\n",
      "      False       0.86      0.96      0.91        56\n",
      "       True       0.97      0.87      0.92        69\n",
      "\n",
      "avg / total       0.92      0.91      0.91       125\n",
      "\n"
     ]
    }
   ],
   "source": [
    "from sklearn import metrics\n",
    "y_pred = clf.predict(X_test) # 학습된 의사결정트리를 이용해 출신국가 예측\n",
    "print(metrics.classification_report(y_test, y_pred)) # 예측 결과 출력"
   ]
  },
  {
   "cell_type": "markdown",
   "metadata": {},
   "source": [
    "첨부한 의사결정트리\n",
    "![Alt text](./mytree.png)"
   ]
  },
  {
   "cell_type": "code",
   "execution_count": 19,
   "metadata": {},
   "outputs": [
    {
     "data": {
      "text/plain": [
       "<matplotlib.figure.Figure at 0x1bf218ff28>"
      ]
     },
     "metadata": {},
     "output_type": "display_data"
    },
    {
     "data": {
      "image/png": "[encoded data removed]",
      "text/plain": [
       "<matplotlib.figure.Figure at 0x1bf218fd68>"
      ]
     },
     "metadata": {},
     "output_type": "display_data"
    }
   ],
   "source": [
    "# 의사결정트리 1단계 정보를 이용한 시각화 예시\n",
    "plt.clf()\n",
    "plt.figure(figsize=(15, 10))\n",
    "plt.xlabel='walk'\n",
    "plt.ylabel='view'\n",
    "plt.scatter(x=data['walk'], y=data['view'], c=data['country'])\n",
    "plt.axvline(x = 33.5, color='k', linewidth=1)\n",
    "plt.show()"
   ]
  },
  {
   "cell_type": "code",
   "execution_count": 20,
   "metadata": {},
   "outputs": [
    {
     "data": {
      "text/plain": [
       "<matplotlib.figure.Figure at 0x1bf22289e8>"
      ]
     },
     "metadata": {},
     "output_type": "display_data"
    },
    {
     "data": {
      "image/png": "[encoded data removed]",
      "text/plain": [
       "<matplotlib.figure.Figure at 0x1bf22287f0>"
      ]
     },
     "metadata": {},
     "output_type": "display_data"
    }
   ],
   "source": [
    "# 의사결정트리를 이용한 시각화 예시\n",
    "plt.clf()\n",
    "plt.figure(figsize=(15, 10))\n",
    "plt.xlabel='walk'\n",
    "plt.ylabel='view'\n",
    "plt.scatter(data['walk'], data['view'], c=data['country'])\n",
    "plt.axvline(x = 33.5, color='k', linewidth=1)\n",
    "plt.axvline(x = 39.5, color='k', linewidth=1)\n",
    "plt.axvline(x = 25.5, color='k', linewidth=1)\n",
    "plt.axhline(y = 7.5, color='k', linewidth=1)\n",
    "plt.axhline(y = 12.5, color='k', linewidth=1)\n",
    "\n",
    "plt.text(x=15, y=5, s='C')\n",
    "plt.text(x=15, y=10, s='C')\n",
    "plt.text(x=30, y=10, s='C')\n",
    "plt.text(x=30, y=5, s='C')\n",
    "plt.text(x=30, y=15, s='J')\n",
    "plt.text(x=37, y=10, s='J')\n",
    "plt.text(x=37, y=15, s='C')\n",
    "plt.text(x=50, y=10, s='J')\n",
    "plt.text(x=50, y=15, s='J')\n",
    "\n",
    "plt.show()"
   ]
  },
  {
   "cell_type": "markdown",
   "metadata": {
    "collapsed": true
   },
   "source": [
    "### 실습예제\n",
    "상단의 고객데이터를 이용해 의사결정트리의 깊이를 3으로 정하고, train과 test의 데이터를 9:1로 설정하여 예측하여 report 표를 출력하시오."
   ]
  },
  {
   "cell_type": "code",
   "execution_count": 21,
   "metadata": {},
   "outputs": [
    {
     "name": "stdout",
     "output_type": "stream",
     "text": [
      "             precision    recall  f1-score   support\n",
      "\n",
      "      False       0.88      0.96      0.92        24\n",
      "       True       0.96      0.88      0.92        26\n",
      "\n",
      "avg / total       0.92      0.92      0.92        50\n",
      "\n"
     ]
    }
   ],
   "source": [
    "X = data[feature_names]\n",
    "y = data['country']\n",
    "# 학습용 데이터와 테스트용 데이터 작성\n",
    "from sklearn.model_selection import train_test_split\n",
    "# training data와 test data의 비율을 3:1로 지정\n",
    "X_train, X_test, y_train, y_test = train_test_split(X, y, test_size=0.1, random_state=33)\n",
    "clf = tree.DecisionTreeClassifier(criterion='entropy', max_depth=2, min_samples_leaf=3) # 의사결정트리 생성(트리depth2)\n",
    "clf = clf.fit(X_train, y_train) # 의사결정트리에 training data 학습\n",
    "\n",
    "from sklearn import metrics\n",
    "y_pred = clf.predict(X_test) # 학습된 의사결정트리를 이용해 출신국가 예측\n",
    "print(metrics.classification_report(y_test, y_pred)) # 예측 결과 출력"
   ]
  },
  {
   "cell_type": "code",
   "execution_count": null,
   "metadata": {
    "collapsed": true
   },
   "outputs": [],
   "source": []
  },
  {
   "cell_type": "code",
   "execution_count": null,
   "metadata": {
    "collapsed": true
   },
   "outputs": [],
   "source": []
  }
 ],
 "metadata": {
  "kernelspec": {
   "display_name": "Python 3",
   "language": "python",
   "name": "python3"
  },
  "language_info": {
   "codemirror_mode": {
    "name": "ipython",
    "version": 3
   },
   "file_extension": ".py",
   "mimetype": "text/x-python",
   "name": "python",
   "nbconvert_exporter": "python",
   "pygments_lexer": "ipython3",
   "version": "3.6.1"
  }
 },
 "nbformat": 4,
 "nbformat_minor": 2
}
