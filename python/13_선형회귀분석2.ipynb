{
 "cells": [
  {
   "cell_type": "markdown",
   "metadata": {
    "deletable": true,
    "editable": true
   },
   "source": [
    "# 선형회귀분석"
   ]
  },
  {
   "cell_type": "markdown",
   "metadata": {},
   "source": [
    "## Linear regression example 1"
   ]
  },
  {
   "cell_type": "code",
   "execution_count": 1,
   "metadata": {
    "collapsed": false,
    "deletable": true,
    "editable": true
   },
   "outputs": [],
   "source": [
    "import pandas as pd\n",
    "import numpy as np\n",
    "from matplotlib import pyplot as plt"
   ]
  },
  {
   "cell_type": "code",
   "execution_count": 2,
   "metadata": {
    "collapsed": false,
    "deletable": true,
    "editable": true
   },
   "outputs": [],
   "source": [
    "student = pd.read_csv('data/student.csv') # 데이터 읽기"
   ]
  },
  {
   "cell_type": "code",
   "execution_count": 3,
   "metadata": {
    "collapsed": false,
    "deletable": true,
    "editable": true
   },
   "outputs": [
    {
     "data": {
      "text/html": [
       "<div>\n",
       "<table border=\"1\" class=\"dataframe\">\n",
       "  <thead>\n",
       "    <tr style=\"text-align: right;\">\n",
       "      <th></th>\n",
       "      <th>language</th>\n",
       "      <th>english</th>\n",
       "      <th>math</th>\n",
       "      <th>science</th>\n",
       "    </tr>\n",
       "  </thead>\n",
       "  <tbody>\n",
       "    <tr>\n",
       "      <th>0</th>\n",
       "      <td>55</td>\n",
       "      <td>91</td>\n",
       "      <td>33</td>\n",
       "      <td>51</td>\n",
       "    </tr>\n",
       "    <tr>\n",
       "      <th>1</th>\n",
       "      <td>60</td>\n",
       "      <td>85</td>\n",
       "      <td>52</td>\n",
       "      <td>43</td>\n",
       "    </tr>\n",
       "    <tr>\n",
       "      <th>2</th>\n",
       "      <td>45</td>\n",
       "      <td>89</td>\n",
       "      <td>21</td>\n",
       "      <td>18</td>\n",
       "    </tr>\n",
       "    <tr>\n",
       "      <th>3</th>\n",
       "      <td>75</td>\n",
       "      <td>30</td>\n",
       "      <td>95</td>\n",
       "      <td>98</td>\n",
       "    </tr>\n",
       "    <tr>\n",
       "      <th>4</th>\n",
       "      <td>60</td>\n",
       "      <td>88</td>\n",
       "      <td>40</td>\n",
       "      <td>31</td>\n",
       "    </tr>\n",
       "    <tr>\n",
       "      <th>5</th>\n",
       "      <td>60</td>\n",
       "      <td>83</td>\n",
       "      <td>51</td>\n",
       "      <td>47</td>\n",
       "    </tr>\n",
       "    <tr>\n",
       "      <th>6</th>\n",
       "      <td>63</td>\n",
       "      <td>63</td>\n",
       "      <td>62</td>\n",
       "      <td>65</td>\n",
       "    </tr>\n",
       "    <tr>\n",
       "      <th>7</th>\n",
       "      <td>54</td>\n",
       "      <td>49</td>\n",
       "      <td>58</td>\n",
       "      <td>60</td>\n",
       "    </tr>\n",
       "    <tr>\n",
       "      <th>8</th>\n",
       "      <td>53</td>\n",
       "      <td>93</td>\n",
       "      <td>31</td>\n",
       "      <td>42</td>\n",
       "    </tr>\n",
       "    <tr>\n",
       "      <th>9</th>\n",
       "      <td>28</td>\n",
       "      <td>37</td>\n",
       "      <td>89</td>\n",
       "      <td>97</td>\n",
       "    </tr>\n",
       "    <tr>\n",
       "      <th>10</th>\n",
       "      <td>62</td>\n",
       "      <td>88</td>\n",
       "      <td>40</td>\n",
       "      <td>37</td>\n",
       "    </tr>\n",
       "    <tr>\n",
       "      <th>11</th>\n",
       "      <td>73</td>\n",
       "      <td>28</td>\n",
       "      <td>89</td>\n",
       "      <td>98</td>\n",
       "    </tr>\n",
       "    <tr>\n",
       "      <th>12</th>\n",
       "      <td>56</td>\n",
       "      <td>48</td>\n",
       "      <td>58</td>\n",
       "      <td>60</td>\n",
       "    </tr>\n",
       "    <tr>\n",
       "      <th>13</th>\n",
       "      <td>64</td>\n",
       "      <td>61</td>\n",
       "      <td>62</td>\n",
       "      <td>61</td>\n",
       "    </tr>\n",
       "    <tr>\n",
       "      <th>14</th>\n",
       "      <td>62</td>\n",
       "      <td>95</td>\n",
       "      <td>34</td>\n",
       "      <td>47</td>\n",
       "    </tr>\n",
       "    <tr>\n",
       "      <th>15</th>\n",
       "      <td>54</td>\n",
       "      <td>97</td>\n",
       "      <td>28</td>\n",
       "      <td>34</td>\n",
       "    </tr>\n",
       "    <tr>\n",
       "      <th>16</th>\n",
       "      <td>60</td>\n",
       "      <td>88</td>\n",
       "      <td>43</td>\n",
       "      <td>34</td>\n",
       "    </tr>\n",
       "    <tr>\n",
       "      <th>17</th>\n",
       "      <td>44</td>\n",
       "      <td>51</td>\n",
       "      <td>75</td>\n",
       "      <td>78</td>\n",
       "    </tr>\n",
       "    <tr>\n",
       "      <th>18</th>\n",
       "      <td>76</td>\n",
       "      <td>28</td>\n",
       "      <td>100</td>\n",
       "      <td>100</td>\n",
       "    </tr>\n",
       "    <tr>\n",
       "      <th>19</th>\n",
       "      <td>75</td>\n",
       "      <td>87</td>\n",
       "      <td>36</td>\n",
       "      <td>24</td>\n",
       "    </tr>\n",
       "  </tbody>\n",
       "</table>\n",
       "</div>"
      ],
      "text/plain": [
       "    language  english  math  science\n",
       "0         55       91    33       51\n",
       "1         60       85    52       43\n",
       "2         45       89    21       18\n",
       "3         75       30    95       98\n",
       "4         60       88    40       31\n",
       "5         60       83    51       47\n",
       "6         63       63    62       65\n",
       "7         54       49    58       60\n",
       "8         53       93    31       42\n",
       "9         28       37    89       97\n",
       "10        62       88    40       37\n",
       "11        73       28    89       98\n",
       "12        56       48    58       60\n",
       "13        64       61    62       61\n",
       "14        62       95    34       47\n",
       "15        54       97    28       34\n",
       "16        60       88    43       34\n",
       "17        44       51    75       78\n",
       "18        76       28   100      100\n",
       "19        75       87    36       24"
      ]
     },
     "execution_count": 3,
     "metadata": {},
     "output_type": "execute_result"
    }
   ],
   "source": [
    "student.head(100)"
   ]
  },
  {
   "cell_type": "code",
   "execution_count": 4,
   "metadata": {
    "collapsed": false,
    "deletable": true,
    "editable": true,
    "scrolled": true
   },
   "outputs": [
    {
     "name": "stdout",
     "output_type": "stream",
     "text": [
      "<class 'pandas.core.frame.DataFrame'>\n",
      "RangeIndex: 20 entries, 0 to 19\n",
      "Data columns (total 4 columns):\n",
      "language    20 non-null int64\n",
      "english     20 non-null int64\n",
      "math        20 non-null int64\n",
      "science     20 non-null int64\n",
      "dtypes: int64(4)\n",
      "memory usage: 720.0 bytes\n"
     ]
    }
   ],
   "source": [
    "student.info()"
   ]
  },
  {
   "cell_type": "code",
   "execution_count": 5,
   "metadata": {
    "collapsed": false,
    "deletable": true,
    "editable": true
   },
   "outputs": [
    {
     "data": {
      "text/html": [
       "<div>\n",
       "<table border=\"1\" class=\"dataframe\">\n",
       "  <thead>\n",
       "    <tr style=\"text-align: right;\">\n",
       "      <th></th>\n",
       "      <th>language</th>\n",
       "      <th>english</th>\n",
       "      <th>math</th>\n",
       "      <th>science</th>\n",
       "    </tr>\n",
       "  </thead>\n",
       "  <tbody>\n",
       "    <tr>\n",
       "      <th>count</th>\n",
       "      <td>20.000000</td>\n",
       "      <td>20.00000</td>\n",
       "      <td>20.000000</td>\n",
       "      <td>20.000000</td>\n",
       "    </tr>\n",
       "    <tr>\n",
       "      <th>mean</th>\n",
       "      <td>58.950000</td>\n",
       "      <td>68.95000</td>\n",
       "      <td>54.850000</td>\n",
       "      <td>56.250000</td>\n",
       "    </tr>\n",
       "    <tr>\n",
       "      <th>std</th>\n",
       "      <td>11.591626</td>\n",
       "      <td>25.07982</td>\n",
       "      <td>23.862049</td>\n",
       "      <td>25.894269</td>\n",
       "    </tr>\n",
       "    <tr>\n",
       "      <th>min</th>\n",
       "      <td>28.000000</td>\n",
       "      <td>28.00000</td>\n",
       "      <td>21.000000</td>\n",
       "      <td>18.000000</td>\n",
       "    </tr>\n",
       "    <tr>\n",
       "      <th>25%</th>\n",
       "      <td>54.000000</td>\n",
       "      <td>48.75000</td>\n",
       "      <td>35.500000</td>\n",
       "      <td>36.250000</td>\n",
       "    </tr>\n",
       "    <tr>\n",
       "      <th>50%</th>\n",
       "      <td>60.000000</td>\n",
       "      <td>84.00000</td>\n",
       "      <td>51.500000</td>\n",
       "      <td>49.000000</td>\n",
       "    </tr>\n",
       "    <tr>\n",
       "      <th>75%</th>\n",
       "      <td>63.250000</td>\n",
       "      <td>88.25000</td>\n",
       "      <td>65.250000</td>\n",
       "      <td>68.250000</td>\n",
       "    </tr>\n",
       "    <tr>\n",
       "      <th>max</th>\n",
       "      <td>76.000000</td>\n",
       "      <td>97.00000</td>\n",
       "      <td>100.000000</td>\n",
       "      <td>100.000000</td>\n",
       "    </tr>\n",
       "  </tbody>\n",
       "</table>\n",
       "</div>"
      ],
      "text/plain": [
       "        language   english        math     science\n",
       "count  20.000000  20.00000   20.000000   20.000000\n",
       "mean   58.950000  68.95000   54.850000   56.250000\n",
       "std    11.591626  25.07982   23.862049   25.894269\n",
       "min    28.000000  28.00000   21.000000   18.000000\n",
       "25%    54.000000  48.75000   35.500000   36.250000\n",
       "50%    60.000000  84.00000   51.500000   49.000000\n",
       "75%    63.250000  88.25000   65.250000   68.250000\n",
       "max    76.000000  97.00000  100.000000  100.000000"
      ]
     },
     "execution_count": 5,
     "metadata": {},
     "output_type": "execute_result"
    }
   ],
   "source": [
    "student.describe() # 데이터 기초통계량 확인"
   ]
  },
  {
   "cell_type": "code",
   "execution_count": 6,
   "metadata": {
    "collapsed": false
   },
   "outputs": [
    {
     "data": {
      "text/html": [
       "<div>\n",
       "<table border=\"1\" class=\"dataframe\">\n",
       "  <thead>\n",
       "    <tr style=\"text-align: right;\">\n",
       "      <th></th>\n",
       "      <th>language</th>\n",
       "      <th>english</th>\n",
       "      <th>math</th>\n",
       "      <th>science</th>\n",
       "      <th>language</th>\n",
       "      <th>english</th>\n",
       "      <th>math</th>\n",
       "      <th>science</th>\n",
       "    </tr>\n",
       "  </thead>\n",
       "  <tbody>\n",
       "    <tr>\n",
       "      <th>language</th>\n",
       "      <td>1.000000</td>\n",
       "      <td>-0.125833</td>\n",
       "      <td>0.183212</td>\n",
       "      <td>0.090698</td>\n",
       "      <td>1.000000</td>\n",
       "      <td>-0.125833</td>\n",
       "      <td>0.183212</td>\n",
       "      <td>0.090698</td>\n",
       "    </tr>\n",
       "    <tr>\n",
       "      <th>english</th>\n",
       "      <td>-0.125833</td>\n",
       "      <td>1.000000</td>\n",
       "      <td>-0.945780</td>\n",
       "      <td>-0.919824</td>\n",
       "      <td>-0.125833</td>\n",
       "      <td>1.000000</td>\n",
       "      <td>-0.945780</td>\n",
       "      <td>-0.919824</td>\n",
       "    </tr>\n",
       "    <tr>\n",
       "      <th>math</th>\n",
       "      <td>0.183212</td>\n",
       "      <td>-0.945780</td>\n",
       "      <td>1.000000</td>\n",
       "      <td>0.951689</td>\n",
       "      <td>0.183212</td>\n",
       "      <td>-0.945780</td>\n",
       "      <td>1.000000</td>\n",
       "      <td>0.951689</td>\n",
       "    </tr>\n",
       "    <tr>\n",
       "      <th>science</th>\n",
       "      <td>0.090698</td>\n",
       "      <td>-0.919824</td>\n",
       "      <td>0.951689</td>\n",
       "      <td>1.000000</td>\n",
       "      <td>0.090698</td>\n",
       "      <td>-0.919824</td>\n",
       "      <td>0.951689</td>\n",
       "      <td>1.000000</td>\n",
       "    </tr>\n",
       "    <tr>\n",
       "      <th>language</th>\n",
       "      <td>1.000000</td>\n",
       "      <td>-0.125833</td>\n",
       "      <td>0.183212</td>\n",
       "      <td>0.090698</td>\n",
       "      <td>1.000000</td>\n",
       "      <td>-0.125833</td>\n",
       "      <td>0.183212</td>\n",
       "      <td>0.090698</td>\n",
       "    </tr>\n",
       "    <tr>\n",
       "      <th>english</th>\n",
       "      <td>-0.125833</td>\n",
       "      <td>1.000000</td>\n",
       "      <td>-0.945780</td>\n",
       "      <td>-0.919824</td>\n",
       "      <td>-0.125833</td>\n",
       "      <td>1.000000</td>\n",
       "      <td>-0.945780</td>\n",
       "      <td>-0.919824</td>\n",
       "    </tr>\n",
       "    <tr>\n",
       "      <th>math</th>\n",
       "      <td>0.183212</td>\n",
       "      <td>-0.945780</td>\n",
       "      <td>1.000000</td>\n",
       "      <td>0.951689</td>\n",
       "      <td>0.183212</td>\n",
       "      <td>-0.945780</td>\n",
       "      <td>1.000000</td>\n",
       "      <td>0.951689</td>\n",
       "    </tr>\n",
       "    <tr>\n",
       "      <th>science</th>\n",
       "      <td>0.090698</td>\n",
       "      <td>-0.919824</td>\n",
       "      <td>0.951689</td>\n",
       "      <td>1.000000</td>\n",
       "      <td>0.090698</td>\n",
       "      <td>-0.919824</td>\n",
       "      <td>0.951689</td>\n",
       "      <td>1.000000</td>\n",
       "    </tr>\n",
       "  </tbody>\n",
       "</table>\n",
       "</div>"
      ],
      "text/plain": [
       "          language   english      math   science  language   english  \\\n",
       "language  1.000000 -0.125833  0.183212  0.090698  1.000000 -0.125833   \n",
       "english  -0.125833  1.000000 -0.945780 -0.919824 -0.125833  1.000000   \n",
       "math      0.183212 -0.945780  1.000000  0.951689  0.183212 -0.945780   \n",
       "science   0.090698 -0.919824  0.951689  1.000000  0.090698 -0.919824   \n",
       "language  1.000000 -0.125833  0.183212  0.090698  1.000000 -0.125833   \n",
       "english  -0.125833  1.000000 -0.945780 -0.919824 -0.125833  1.000000   \n",
       "math      0.183212 -0.945780  1.000000  0.951689  0.183212 -0.945780   \n",
       "science   0.090698 -0.919824  0.951689  1.000000  0.090698 -0.919824   \n",
       "\n",
       "              math   science  \n",
       "language  0.183212  0.090698  \n",
       "english  -0.945780 -0.919824  \n",
       "math      1.000000  0.951689  \n",
       "science   0.951689  1.000000  \n",
       "language  0.183212  0.090698  \n",
       "english  -0.945780 -0.919824  \n",
       "math      1.000000  0.951689  \n",
       "science   0.951689  1.000000  "
      ]
     },
     "execution_count": 6,
     "metadata": {},
     "output_type": "execute_result"
    }
   ],
   "source": [
    "# 피어슨 상관계수\n",
    "pd.concat([student, student], axis=1).corr(method='pearson')"
   ]
  },
  {
   "cell_type": "code",
   "execution_count": 7,
   "metadata": {
    "collapsed": false,
    "deletable": true,
    "editable": true
   },
   "outputs": [
    {
     "data": {
      "text/plain": [
       "<matplotlib.figure.Figure at 0x22397c6de48>"
      ]
     },
     "metadata": {},
     "output_type": "display_data"
    },
    {
     "data": {
      "image/png": "[encoded data removed]",
      "text/plain": [
       "<matplotlib.figure.Figure at 0x22397c6de10>"
      ]
     },
     "metadata": {},
     "output_type": "display_data"
    },
    {
     "data": {
      "text/plain": [
       "0.95168911053673177"
      ]
     },
     "execution_count": 7,
     "metadata": {},
     "output_type": "execute_result"
    }
   ],
   "source": [
    "plt.clf()\n",
    "plt.figure(figsize=(15, 10))\n",
    "plt.xlabel('math')\n",
    "plt.ylabel('science')\n",
    "plt.scatter(student['math'], student['science'])\n",
    "plt.show()\n",
    "# 수학과 과학과의 상관계수\n",
    "np.corrcoef(student['math'], student['science'])[0, 1]"
   ]
  },
  {
   "cell_type": "code",
   "execution_count": 8,
   "metadata": {
    "collapsed": false,
    "deletable": true,
    "editable": true
   },
   "outputs": [
    {
     "data": {
      "text/plain": [
       "<matplotlib.figure.Figure at 0x22397c6d9b0>"
      ]
     },
     "metadata": {},
     "output_type": "display_data"
    },
    {
     "data": {
      "image/png": "[encoded data removed]",
      "text/plain": [
       "<matplotlib.figure.Figure at 0x22397c6d978>"
      ]
     },
     "metadata": {},
     "output_type": "display_data"
    },
    {
     "data": {
      "text/plain": [
       "-0.94578048089858313"
      ]
     },
     "execution_count": 8,
     "metadata": {},
     "output_type": "execute_result"
    }
   ],
   "source": [
    "plt.clf()\n",
    "plt.figure(figsize=(15, 10))\n",
    "plt.xlabel('math')\n",
    "plt.ylabel('english')\n",
    "plt.scatter(student['math'], student['english'])\n",
    "plt.show()\n",
    "# 수학과 영어과의 상관계수\n",
    "np.corrcoef(student['math'], student['english'])[0, 1]"
   ]
  },
  {
   "cell_type": "code",
   "execution_count": 9,
   "metadata": {
    "collapsed": false,
    "deletable": true,
    "editable": true
   },
   "outputs": [
    {
     "data": {
      "text/plain": [
       "<matplotlib.figure.Figure at 0x22397dbaa20>"
      ]
     },
     "metadata": {},
     "output_type": "display_data"
    },
    {
     "data": {
      "image/png": "[encoded data removed]",
      "text/plain": [
       "<matplotlib.figure.Figure at 0x22397dbac18>"
      ]
     },
     "metadata": {},
     "output_type": "display_data"
    },
    {
     "data": {
      "text/plain": [
       "0.18321159342393156"
      ]
     },
     "execution_count": 9,
     "metadata": {},
     "output_type": "execute_result"
    }
   ],
   "source": [
    "plt.clf()\n",
    "plt.figure(figsize=(15, 10))\n",
    "plt.xlabel('math')\n",
    "plt.ylabel('language')\n",
    "plt.scatter(student['math'], student['language'])\n",
    "plt.show()\n",
    "# 수학과 언어와의 상관계수\n",
    "np.corrcoef(student['math'], student['language'])[0, 1]"
   ]
  },
  {
   "cell_type": "code",
   "execution_count": 10,
   "metadata": {
    "collapsed": false
   },
   "outputs": [
    {
     "data": {
      "text/html": [
       "<div>\n",
       "<table border=\"1\" class=\"dataframe\">\n",
       "  <thead>\n",
       "    <tr style=\"text-align: right;\">\n",
       "      <th></th>\n",
       "      <th>language</th>\n",
       "      <th>english</th>\n",
       "      <th>math</th>\n",
       "      <th>science</th>\n",
       "      <th>language</th>\n",
       "      <th>english</th>\n",
       "      <th>math</th>\n",
       "      <th>science</th>\n",
       "    </tr>\n",
       "  </thead>\n",
       "  <tbody>\n",
       "    <tr>\n",
       "      <th>language</th>\n",
       "      <td>1.000000</td>\n",
       "      <td>-0.316428</td>\n",
       "      <td>0.362091</td>\n",
       "      <td>0.242150</td>\n",
       "      <td>1.000000</td>\n",
       "      <td>-0.316428</td>\n",
       "      <td>0.362091</td>\n",
       "      <td>0.242150</td>\n",
       "    </tr>\n",
       "    <tr>\n",
       "      <th>english</th>\n",
       "      <td>-0.316428</td>\n",
       "      <td>1.000000</td>\n",
       "      <td>-0.941154</td>\n",
       "      <td>-0.802339</td>\n",
       "      <td>-0.316428</td>\n",
       "      <td>1.000000</td>\n",
       "      <td>-0.941154</td>\n",
       "      <td>-0.802339</td>\n",
       "    </tr>\n",
       "    <tr>\n",
       "      <th>math</th>\n",
       "      <td>0.362091</td>\n",
       "      <td>-0.941154</td>\n",
       "      <td>1.000000</td>\n",
       "      <td>0.878205</td>\n",
       "      <td>0.362091</td>\n",
       "      <td>-0.941154</td>\n",
       "      <td>1.000000</td>\n",
       "      <td>0.878205</td>\n",
       "    </tr>\n",
       "    <tr>\n",
       "      <th>science</th>\n",
       "      <td>0.242150</td>\n",
       "      <td>-0.802339</td>\n",
       "      <td>0.878205</td>\n",
       "      <td>1.000000</td>\n",
       "      <td>0.242150</td>\n",
       "      <td>-0.802339</td>\n",
       "      <td>0.878205</td>\n",
       "      <td>1.000000</td>\n",
       "    </tr>\n",
       "    <tr>\n",
       "      <th>language</th>\n",
       "      <td>1.000000</td>\n",
       "      <td>-0.316428</td>\n",
       "      <td>0.362091</td>\n",
       "      <td>0.242150</td>\n",
       "      <td>1.000000</td>\n",
       "      <td>-0.316428</td>\n",
       "      <td>0.362091</td>\n",
       "      <td>0.242150</td>\n",
       "    </tr>\n",
       "    <tr>\n",
       "      <th>english</th>\n",
       "      <td>-0.316428</td>\n",
       "      <td>1.000000</td>\n",
       "      <td>-0.941154</td>\n",
       "      <td>-0.802339</td>\n",
       "      <td>-0.316428</td>\n",
       "      <td>1.000000</td>\n",
       "      <td>-0.941154</td>\n",
       "      <td>-0.802339</td>\n",
       "    </tr>\n",
       "    <tr>\n",
       "      <th>math</th>\n",
       "      <td>0.362091</td>\n",
       "      <td>-0.941154</td>\n",
       "      <td>1.000000</td>\n",
       "      <td>0.878205</td>\n",
       "      <td>0.362091</td>\n",
       "      <td>-0.941154</td>\n",
       "      <td>1.000000</td>\n",
       "      <td>0.878205</td>\n",
       "    </tr>\n",
       "    <tr>\n",
       "      <th>science</th>\n",
       "      <td>0.242150</td>\n",
       "      <td>-0.802339</td>\n",
       "      <td>0.878205</td>\n",
       "      <td>1.000000</td>\n",
       "      <td>0.242150</td>\n",
       "      <td>-0.802339</td>\n",
       "      <td>0.878205</td>\n",
       "      <td>1.000000</td>\n",
       "    </tr>\n",
       "  </tbody>\n",
       "</table>\n",
       "</div>"
      ],
      "text/plain": [
       "          language   english      math   science  language   english  \\\n",
       "language  1.000000 -0.316428  0.362091  0.242150  1.000000 -0.316428   \n",
       "english  -0.316428  1.000000 -0.941154 -0.802339 -0.316428  1.000000   \n",
       "math      0.362091 -0.941154  1.000000  0.878205  0.362091 -0.941154   \n",
       "science   0.242150 -0.802339  0.878205  1.000000  0.242150 -0.802339   \n",
       "language  1.000000 -0.316428  0.362091  0.242150  1.000000 -0.316428   \n",
       "english  -0.316428  1.000000 -0.941154 -0.802339 -0.316428  1.000000   \n",
       "math      0.362091 -0.941154  1.000000  0.878205  0.362091 -0.941154   \n",
       "science   0.242150 -0.802339  0.878205  1.000000  0.242150 -0.802339   \n",
       "\n",
       "              math   science  \n",
       "language  0.362091  0.242150  \n",
       "english  -0.941154 -0.802339  \n",
       "math      1.000000  0.878205  \n",
       "science   0.878205  1.000000  \n",
       "language  0.362091  0.242150  \n",
       "english  -0.941154 -0.802339  \n",
       "math      1.000000  0.878205  \n",
       "science   0.878205  1.000000  "
      ]
     },
     "execution_count": 10,
     "metadata": {},
     "output_type": "execute_result"
    }
   ],
   "source": [
    "# 스피어만 상관계수\n",
    "pd.concat([student, student], axis=1).corr(method='spearman')"
   ]
  },
  {
   "cell_type": "markdown",
   "metadata": {},
   "source": [
    "## Linear regression example 1\n",
    "- 선형회귀분석을 통해 과학(science) 성적을 이용하여 수학(math)성적 예측"
   ]
  },
  {
   "cell_type": "code",
   "execution_count": 11,
   "metadata": {
    "collapsed": true,
    "deletable": true,
    "editable": true
   },
   "outputs": [],
   "source": [
    "# 회귀분석\n",
    "from sklearn import linear_model"
   ]
  },
  {
   "cell_type": "code",
   "execution_count": 12,
   "metadata": {
    "collapsed": false,
    "deletable": true,
    "editable": true
   },
   "outputs": [],
   "source": [
    "X = student['science']\n",
    "y = student['math']\n",
    "\n",
    "# 모듈에 맞게 data reshape\n",
    "X = X.values.reshape(len(X), 1)\n",
    "y = y.values.reshape(len(X), 1)"
   ]
  },
  {
   "cell_type": "code",
   "execution_count": 13,
   "metadata": {
    "collapsed": false,
    "deletable": true,
    "editable": true
   },
   "outputs": [],
   "source": [
    "# 훈련데이어, 테스트 데이터 분할\n",
    "from sklearn.model_selection import train_test_split\n",
    "\n",
    "X_train, X_test, y_train, y_test = train_test_split(X, y, test_size=0.25, random_state=33)"
   ]
  },
  {
   "cell_type": "code",
   "execution_count": 14,
   "metadata": {
    "collapsed": false,
    "deletable": true,
    "editable": true
   },
   "outputs": [
    {
     "data": {
      "text/plain": [
       "array([[ 75],\n",
       "       [ 31],\n",
       "       [ 28],\n",
       "       [100],\n",
       "       [ 51]], dtype=int64)"
      ]
     },
     "execution_count": 14,
     "metadata": {},
     "output_type": "execute_result"
    }
   ],
   "source": [
    "y_test"
   ]
  },
  {
   "cell_type": "code",
   "execution_count": 15,
   "metadata": {
    "collapsed": false,
    "deletable": true,
    "editable": true
   },
   "outputs": [
    {
     "data": {
      "text/plain": [
       "LinearRegression(copy_X=True, fit_intercept=True, n_jobs=1, normalize=False)"
      ]
     },
     "execution_count": 15,
     "metadata": {},
     "output_type": "execute_result"
    }
   ],
   "source": [
    "# 선형 회귀분석 모델 생성\n",
    "regr = linear_model.LinearRegression()\n",
    "regr.fit(X_train, y_train)"
   ]
  },
  {
   "cell_type": "code",
   "execution_count": 16,
   "metadata": {
    "collapsed": false,
    "deletable": true,
    "editable": true
   },
   "outputs": [
    {
     "name": "stdout",
     "output_type": "stream",
     "text": [
      "Coefficients: \n",
      " [[ 0.81443861]]\n",
      "Mean squared error: 68.13\n",
      "Variance score: 0.91\n"
     ]
    }
   ],
   "source": [
    "# The coefficients\n",
    "print('Coefficients: \\n', regr.coef_)\n",
    "# The mean squared error\n",
    "print(\"Mean squared error: %.2f\"\n",
    "      % np.mean((regr.predict(X_test) - y_test) ** 2))\n",
    "# Explained variance score: 1 is perfect prediction\n",
    "print('Variance score: %.2f' % regr.score (X_test, y_test))"
   ]
  },
  {
   "cell_type": "code",
   "execution_count": 17,
   "metadata": {
    "collapsed": false,
    "deletable": true,
    "editable": true,
    "scrolled": true
   },
   "outputs": [
    {
     "name": "stdout",
     "output_type": "stream",
     "text": [
      "[[ 50.1154362]]\n"
     ]
    }
   ],
   "source": [
    "# 학생이 받은 과학성적 값(예: 50점) 입력\n",
    "preds = regr.predict(X=50)\n",
    "print(preds)"
   ]
  },
  {
   "cell_type": "code",
   "execution_count": 18,
   "metadata": {
    "collapsed": false,
    "deletable": true,
    "editable": true
   },
   "outputs": [
    {
     "data": {
      "text/plain": [
       "<matplotlib.figure.Figure at 0x22399024be0>"
      ]
     },
     "metadata": {},
     "output_type": "display_data"
    },
    {
     "data": {
      "image/png": "[encoded data removed]",
      "text/plain": [
       "<matplotlib.figure.Figure at 0x22399024ba8>"
      ]
     },
     "metadata": {},
     "output_type": "display_data"
    }
   ],
   "source": [
    "plt.clf()\n",
    "plt.figure(figsize=(15, 10))\n",
    "plt.xlabel('science')\n",
    "plt.ylabel('math')\n",
    "plt.scatter(X, y,  color='black')\n",
    "plt.plot(X_test, regr.predict(X_test), color='blue', linewidth=3)\n",
    "plt.show()"
   ]
  },
  {
   "cell_type": "markdown",
   "metadata": {},
   "source": [
    "### 실습예제1\n",
    "테스트 데이터 비율을 0.2로 수정하고 학생이 받은 과학성적이 80일때 수학성적을 예측하시오."
   ]
  },
  {
   "cell_type": "code",
   "execution_count": 19,
   "metadata": {
    "collapsed": true
   },
   "outputs": [],
   "source": [
    "# 회귀분석\n",
    "from sklearn import linear_model"
   ]
  },
  {
   "cell_type": "code",
   "execution_count": 20,
   "metadata": {
    "collapsed": true
   },
   "outputs": [],
   "source": [
    "X = student['science']\n",
    "y = student['math']\n",
    "\n",
    "# 모듈에 맞게 data reshape\n",
    "X = X.values.reshape(len(X), 1)\n",
    "y = y.values.reshape(len(X), 1)"
   ]
  },
  {
   "cell_type": "code",
   "execution_count": 21,
   "metadata": {
    "collapsed": true
   },
   "outputs": [],
   "source": [
    "# 훈련데이어, 테스트 데이터 분할\n",
    "from sklearn.model_selection import train_test_split\n",
    "\n",
    "X_train, X_test, y_train, y_test = train_test_split(X, y, test_size=0.2, random_state=33)"
   ]
  },
  {
   "cell_type": "code",
   "execution_count": 22,
   "metadata": {
    "collapsed": false
   },
   "outputs": [
    {
     "data": {
      "text/plain": [
       "LinearRegression(copy_X=True, fit_intercept=True, n_jobs=1, normalize=False)"
      ]
     },
     "execution_count": 22,
     "metadata": {},
     "output_type": "execute_result"
    }
   ],
   "source": [
    "# 선형 회귀분석 모델 생성\n",
    "regr = linear_model.LinearRegression()\n",
    "regr.fit(X_train, y_train)"
   ]
  },
  {
   "cell_type": "code",
   "execution_count": 23,
   "metadata": {
    "collapsed": false
   },
   "outputs": [
    {
     "name": "stdout",
     "output_type": "stream",
     "text": [
      "[[ 50.33486731]]\n"
     ]
    }
   ],
   "source": [
    "# 학생이 받은 과학성적 값(예: 50점) 입력\n",
    "preds = regr.predict(X=50)\n",
    "print(preds)"
   ]
  },
  {
   "cell_type": "markdown",
   "metadata": {},
   "source": [
    "## Linear regression example 2\n",
    "- 다중 선형회귀분석을 통해 과학(science), 언어(language), 영어(english)가 성적을 이용하여 수학(math)성적 예측"
   ]
  },
  {
   "cell_type": "code",
   "execution_count": 24,
   "metadata": {
    "collapsed": true,
    "deletable": true,
    "editable": true
   },
   "outputs": [],
   "source": [
    "# 다중 회귀 분석\n",
    "X = student[['science', 'language' ,'english']]\n",
    "y = student['math']"
   ]
  },
  {
   "cell_type": "code",
   "execution_count": 25,
   "metadata": {
    "collapsed": false,
    "deletable": true,
    "editable": true
   },
   "outputs": [],
   "source": [
    "# 훈련데이터, 테스트 데이터\n",
    "from sklearn.model_selection import train_test_split\n",
    "X.values.tolist()\n",
    "y = y.values.reshape(len(X), 1) # 배열 형태 변경\n",
    "\n",
    "# 훈련데이터, 테스트 데이터 분리(테스트 데이터 비율(0.25))\n",
    "X_train, X_test, y_train, y_test = train_test_split(X, y, test_size=0.25, random_state=33) "
   ]
  },
  {
   "cell_type": "code",
   "execution_count": 26,
   "metadata": {
    "collapsed": false,
    "deletable": true,
    "editable": true
   },
   "outputs": [
    {
     "data": {
      "text/plain": [
       "LinearRegression(copy_X=True, fit_intercept=True, n_jobs=1, normalize=False)"
      ]
     },
     "execution_count": 26,
     "metadata": {},
     "output_type": "execute_result"
    }
   ],
   "source": [
    "# 선형 회귀 분석 모델 생성\n",
    "regr = linear_model.LinearRegression()\n",
    "regr.fit(X_train, y_train)"
   ]
  },
  {
   "cell_type": "code",
   "execution_count": 27,
   "metadata": {
    "collapsed": false,
    "deletable": true,
    "editable": true,
    "scrolled": true
   },
   "outputs": [
    {
     "name": "stdout",
     "output_type": "stream",
     "text": [
      "[[ 89.05862169]]\n"
     ]
    }
   ],
   "source": [
    "# 학생이 받은 성적 값(예: 과학: 89점, 언어: 50점, 영어: 40점) 입력\n",
    "table = np.array([100, 100, 50])\n",
    "# 수학 성적 예측\n",
    "preds = regr.predict(table.reshape(1,-1))\n",
    "print(preds)"
   ]
  },
  {
   "cell_type": "markdown",
   "metadata": {},
   "source": [
    "## Linear regression example 3\n",
    "- 선형회귀분석을 통해 매장을 둘러보는 횟수(view)을 이용해 매출액(payment)를 예측"
   ]
  },
  {
   "cell_type": "code",
   "execution_count": 28,
   "metadata": {
    "collapsed": false,
    "deletable": true,
    "editable": true
   },
   "outputs": [
    {
     "data": {
      "text/html": [
       "<div>\n",
       "<table border=\"1\" class=\"dataframe\">\n",
       "  <thead>\n",
       "    <tr style=\"text-align: right;\">\n",
       "      <th></th>\n",
       "      <th>id</th>\n",
       "      <th>walk</th>\n",
       "      <th>view</th>\n",
       "      <th>sex</th>\n",
       "      <th>payment</th>\n",
       "      <th>country</th>\n",
       "    </tr>\n",
       "  </thead>\n",
       "  <tbody>\n",
       "    <tr>\n",
       "      <th>0</th>\n",
       "      <td>1</td>\n",
       "      <td>15</td>\n",
       "      <td>5</td>\n",
       "      <td>M</td>\n",
       "      <td>176</td>\n",
       "      <td>C</td>\n",
       "    </tr>\n",
       "    <tr>\n",
       "      <th>1</th>\n",
       "      <td>2</td>\n",
       "      <td>15</td>\n",
       "      <td>5</td>\n",
       "      <td>M</td>\n",
       "      <td>194</td>\n",
       "      <td>C</td>\n",
       "    </tr>\n",
       "    <tr>\n",
       "      <th>2</th>\n",
       "      <td>3</td>\n",
       "      <td>27</td>\n",
       "      <td>12</td>\n",
       "      <td>F</td>\n",
       "      <td>384</td>\n",
       "      <td>C</td>\n",
       "    </tr>\n",
       "    <tr>\n",
       "      <th>3</th>\n",
       "      <td>4</td>\n",
       "      <td>24</td>\n",
       "      <td>9</td>\n",
       "      <td>F</td>\n",
       "      <td>329</td>\n",
       "      <td>C</td>\n",
       "    </tr>\n",
       "    <tr>\n",
       "      <th>4</th>\n",
       "      <td>5</td>\n",
       "      <td>21</td>\n",
       "      <td>8</td>\n",
       "      <td>F</td>\n",
       "      <td>290</td>\n",
       "      <td>C</td>\n",
       "    </tr>\n",
       "  </tbody>\n",
       "</table>\n",
       "</div>"
      ],
      "text/plain": [
       "   id  walk  view sex  payment country\n",
       "0   1    15     5   M      176       C\n",
       "1   2    15     5   M      194       C\n",
       "2   3    27    12   F      384       C\n",
       "3   4    24     9   F      329       C\n",
       "4   5    21     8   F      290       C"
      ]
     },
     "execution_count": 28,
     "metadata": {},
     "output_type": "execute_result"
    }
   ],
   "source": [
    "# 매장 매출 예측 예\n",
    "mydata2 = pd.read_csv('data/mydata2.csv')\n",
    "mydata2.head(5)"
   ]
  },
  {
   "cell_type": "code",
   "execution_count": 29,
   "metadata": {
    "collapsed": true,
    "deletable": true,
    "editable": true
   },
   "outputs": [],
   "source": [
    "X = mydata2['view'] # 설명변수\n",
    "y = mydata2['payment'] # 목적변수"
   ]
  },
  {
   "cell_type": "code",
   "execution_count": 30,
   "metadata": {
    "collapsed": false,
    "deletable": true,
    "editable": true
   },
   "outputs": [],
   "source": [
    "from sklearn.model_selection import train_test_split\n",
    "X = X.values.reshape(len(X), 1)\n",
    "y = y.values.reshape(len(y), 1)\n",
    "# 훈련데이터, 테스트 데이터 분리(테스트 데이터 비율(0.25))\n",
    "X_train, X_test, y_train, y_test = train_test_split(X, y, test_size=0.25, random_state=33)"
   ]
  },
  {
   "cell_type": "code",
   "execution_count": 31,
   "metadata": {
    "collapsed": false,
    "deletable": true,
    "editable": true
   },
   "outputs": [
    {
     "data": {
      "text/plain": [
       "LinearRegression(copy_X=True, fit_intercept=True, n_jobs=1, normalize=False)"
      ]
     },
     "execution_count": 31,
     "metadata": {},
     "output_type": "execute_result"
    }
   ],
   "source": [
    "# 선형 회귀분석 모델 생성\n",
    "regr = linear_model.LinearRegression()\n",
    "regr.fit(X_train, y_train)"
   ]
  },
  {
   "cell_type": "code",
   "execution_count": 32,
   "metadata": {
    "collapsed": false,
    "deletable": true,
    "editable": true,
    "scrolled": true
   },
   "outputs": [
    {
     "name": "stdout",
     "output_type": "stream",
     "text": [
      "[[ 654.37586279]]\n"
     ]
    }
   ],
   "source": [
    "# view가 30일때 payment 예측\n",
    "preds = regr.predict(30)\n",
    "print(preds)"
   ]
  },
  {
   "cell_type": "code",
   "execution_count": 33,
   "metadata": {
    "collapsed": false,
    "deletable": true,
    "editable": true
   },
   "outputs": [
    {
     "data": {
      "text/plain": [
       "<matplotlib.figure.Figure at 0x22399199390>"
      ]
     },
     "metadata": {},
     "output_type": "display_data"
    },
    {
     "data": {
      "image/png": "[encoded data removed]",
      "text/plain": [
       "<matplotlib.figure.Figure at 0x22399199160>"
      ]
     },
     "metadata": {},
     "output_type": "display_data"
    }
   ],
   "source": [
    "plt.clf()\n",
    "plt.figure(figsize=(15, 10))\n",
    "plt.xlabel('view')\n",
    "plt.ylabel('payment')\n",
    "plt.scatter(mydata2['view'], mydata2['payment'])\n",
    "plt.show()"
   ]
  },
  {
   "cell_type": "markdown",
   "metadata": {},
   "source": [
    "## Linear regression example 4\n",
    "- 선형 회귀분석을 통해 걷는 시간(walk)을 이용한 매출액(payment) 예측"
   ]
  },
  {
   "cell_type": "code",
   "execution_count": 34,
   "metadata": {
    "collapsed": true,
    "deletable": true,
    "editable": true
   },
   "outputs": [],
   "source": [
    "# walk를 이용한 payment 예측\n",
    "X = mydata2['walk']\n",
    "y = mydata2['payment']"
   ]
  },
  {
   "cell_type": "code",
   "execution_count": 35,
   "metadata": {
    "collapsed": true,
    "deletable": true,
    "editable": true
   },
   "outputs": [],
   "source": [
    "from sklearn.model_selection import train_test_split\n",
    "X = X.values.reshape(len(X), 1)\n",
    "y = y.values.reshape(len(y), 1)\n",
    "# 훈련데이터, 테스트 데이터 분리(테스트 데이터 비율(0.25))\n",
    "X_train, X_test, y_train, y_test = train_test_split(X, y, test_size=0.25, random_state=33)"
   ]
  },
  {
   "cell_type": "code",
   "execution_count": 36,
   "metadata": {
    "collapsed": false,
    "deletable": true,
    "editable": true
   },
   "outputs": [
    {
     "data": {
      "text/plain": [
       "LinearRegression(copy_X=True, fit_intercept=True, n_jobs=1, normalize=False)"
      ]
     },
     "execution_count": 36,
     "metadata": {},
     "output_type": "execute_result"
    }
   ],
   "source": [
    "# 선형 회귀분석 모델 생성\n",
    "regr = linear_model.LinearRegression()\n",
    "regr.fit(X_train, y_train)"
   ]
  },
  {
   "cell_type": "code",
   "execution_count": 37,
   "metadata": {
    "collapsed": false,
    "deletable": true,
    "editable": true
   },
   "outputs": [
    {
     "name": "stdout",
     "output_type": "stream",
     "text": [
      "[[ 380.87943924]]\n"
     ]
    }
   ],
   "source": [
    "# walk가 40일때 payment 예측\n",
    "preds = regr.predict(40)\n",
    "print(preds)"
   ]
  },
  {
   "cell_type": "code",
   "execution_count": null,
   "metadata": {
    "collapsed": true,
    "deletable": true,
    "editable": true
   },
   "outputs": [],
   "source": []
  },
  {
   "cell_type": "markdown",
   "metadata": {},
   "source": [
    "### 실습예제2\n",
    "매장매출데이터(mydata2.csv)를 살펴보고 다중 선형회귀분석을 통해 걷는시간(walk), 매장을 둘러보는 횟수(view)를 이용하여 걷는시간이 30, 매장을 둘러보는 횟수가 15일때 매출액(payment)을 예측하시오"
   ]
  },
  {
   "cell_type": "code",
   "execution_count": 38,
   "metadata": {
    "collapsed": false
   },
   "outputs": [
    {
     "data": {
      "text/html": [
       "<div>\n",
       "<table border=\"1\" class=\"dataframe\">\n",
       "  <thead>\n",
       "    <tr style=\"text-align: right;\">\n",
       "      <th></th>\n",
       "      <th>id</th>\n",
       "      <th>walk</th>\n",
       "      <th>view</th>\n",
       "      <th>sex</th>\n",
       "      <th>payment</th>\n",
       "      <th>country</th>\n",
       "    </tr>\n",
       "  </thead>\n",
       "  <tbody>\n",
       "    <tr>\n",
       "      <th>0</th>\n",
       "      <td>1</td>\n",
       "      <td>15</td>\n",
       "      <td>5</td>\n",
       "      <td>M</td>\n",
       "      <td>176</td>\n",
       "      <td>C</td>\n",
       "    </tr>\n",
       "    <tr>\n",
       "      <th>1</th>\n",
       "      <td>2</td>\n",
       "      <td>15</td>\n",
       "      <td>5</td>\n",
       "      <td>M</td>\n",
       "      <td>194</td>\n",
       "      <td>C</td>\n",
       "    </tr>\n",
       "    <tr>\n",
       "      <th>2</th>\n",
       "      <td>3</td>\n",
       "      <td>27</td>\n",
       "      <td>12</td>\n",
       "      <td>F</td>\n",
       "      <td>384</td>\n",
       "      <td>C</td>\n",
       "    </tr>\n",
       "    <tr>\n",
       "      <th>3</th>\n",
       "      <td>4</td>\n",
       "      <td>24</td>\n",
       "      <td>9</td>\n",
       "      <td>F</td>\n",
       "      <td>329</td>\n",
       "      <td>C</td>\n",
       "    </tr>\n",
       "    <tr>\n",
       "      <th>4</th>\n",
       "      <td>5</td>\n",
       "      <td>21</td>\n",
       "      <td>8</td>\n",
       "      <td>F</td>\n",
       "      <td>290</td>\n",
       "      <td>C</td>\n",
       "    </tr>\n",
       "  </tbody>\n",
       "</table>\n",
       "</div>"
      ],
      "text/plain": [
       "   id  walk  view sex  payment country\n",
       "0   1    15     5   M      176       C\n",
       "1   2    15     5   M      194       C\n",
       "2   3    27    12   F      384       C\n",
       "3   4    24     9   F      329       C\n",
       "4   5    21     8   F      290       C"
      ]
     },
     "execution_count": 38,
     "metadata": {},
     "output_type": "execute_result"
    }
   ],
   "source": [
    "# 매장 매출 예측 예\n",
    "df = pd.read_csv('data/mydata2.csv')\n",
    "df.head(5)"
   ]
  },
  {
   "cell_type": "code",
   "execution_count": 39,
   "metadata": {
    "collapsed": false
   },
   "outputs": [],
   "source": [
    "# 다중 회귀 분석\n",
    "X = df[['walk', 'view']]\n",
    "y = df['payment']"
   ]
  },
  {
   "cell_type": "code",
   "execution_count": 40,
   "metadata": {
    "collapsed": true
   },
   "outputs": [],
   "source": [
    "# 훈련데이터, 테스트 데이터\n",
    "from sklearn.model_selection import train_test_split\n",
    "X.values.tolist()\n",
    "y = y.values.reshape(len(X), 1) # 배열 형태 변경\n",
    "\n",
    "# 훈련데이터, 테스트 데이터 분리(테스트 데이터 비율(0.25))\n",
    "X_train, X_test, y_train, y_test = train_test_split(X, y, test_size=0.25, random_state=33) "
   ]
  },
  {
   "cell_type": "code",
   "execution_count": 41,
   "metadata": {
    "collapsed": false
   },
   "outputs": [
    {
     "data": {
      "text/plain": [
       "LinearRegression(copy_X=True, fit_intercept=True, n_jobs=1, normalize=False)"
      ]
     },
     "execution_count": 41,
     "metadata": {},
     "output_type": "execute_result"
    }
   ],
   "source": [
    "# 선형 회귀 분석 모델 생성\n",
    "regr = linear_model.LinearRegression()\n",
    "regr.fit(X_train, y_train)"
   ]
  },
  {
   "cell_type": "code",
   "execution_count": 42,
   "metadata": {
    "collapsed": false
   },
   "outputs": [
    {
     "name": "stdout",
     "output_type": "stream",
     "text": [
      "[[ 411.98292433]]\n"
     ]
    }
   ],
   "source": [
    "# 걷는시간 30, 매장을 둘러보는 횟수 15\n",
    "table = np.array([30, 15])\n",
    "# 매출액 예측\n",
    "preds = regr.predict(table.reshape(1,-1))\n",
    "print(preds)"
   ]
  }
 ],
 "metadata": {
  "kernelspec": {
   "display_name": "Python 3",
   "language": "python",
   "name": "python3"
  },
  "language_info": {
   "codemirror_mode": {
    "name": "ipython",
    "version": 3
   },
   "file_extension": ".py",
   "mimetype": "text/x-python",
   "name": "python",
   "nbconvert_exporter": "python",
   "pygments_lexer": "ipython3",
   "version": "3.6.0"
  }
 },
 "nbformat": 4,
 "nbformat_minor": 2
}
